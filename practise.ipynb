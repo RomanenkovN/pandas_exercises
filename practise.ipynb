{
  "nbformat": 4,
  "nbformat_minor": 0,
  "metadata": {
    "anaconda-cloud": {},
    "kernelspec": {
      "display_name": "Python 3",
      "language": "python",
      "name": "python3"
    },
    "language_info": {
      "codemirror_mode": {
        "name": "ipython",
        "version": 3
      },
      "file_extension": ".py",
      "mimetype": "text/x-python",
      "name": "python",
      "nbconvert_exporter": "python",
      "pygments_lexer": "ipython3",
      "version": "3.7.6"
    },
    "name": "seminar02_part2_pandas.ipynb",
    "colab": {
      "name": "course_lesson1_pandas_intro.ipynb",
      "provenance": [],
      "include_colab_link": true
    }
  },
  "cells": [
    {
      "cell_type": "markdown",
      "metadata": {
        "id": "view-in-github",
        "colab_type": "text"
      },
      "source": [
        "<a href=\"https://colab.research.google.com/github/RomanenkovN/pandas_exercises/blob/master/practise.ipynb\" target=\"_parent\"><img src=\"https://colab.research.google.com/assets/colab-badge.svg\" alt=\"Open In Colab\"/></a>"
      ]
    },
    {
      "cell_type": "markdown",
      "metadata": {
        "id": "eQI6yjY8mBDy"
      },
      "source": [
        "# <center>Тема 1. Exploratory data analysis with Pandas</center>"
      ]
    },
    {
      "cell_type": "code",
      "metadata": {
        "scrolled": true,
        "id": "Fc2yUOwBmBDz"
      },
      "source": [
        "import os\n",
        "import numpy as np\n",
        "import pandas as pd"
      ],
      "execution_count": null,
      "outputs": []
    },
    {
      "cell_type": "markdown",
      "metadata": {
        "id": "P4Myqy3jmBD2"
      },
      "source": [
        "### Работа с Series"
      ]
    },
    {
      "cell_type": "code",
      "metadata": {
        "id": "v5xOPD7hmBD2",
        "outputId": "f775027e-0f54-42c1-a247-3e87bd765ecb"
      },
      "source": [
        "apples = pd.Series([10, 30, 20, 25, 4, 0],\n",
        "              index = ['Alise', 'Andrew', 'Bob', 'Matt', 'Charles', 'Ann'])\n",
        "apples"
      ],
      "execution_count": null,
      "outputs": [
        {
          "output_type": "execute_result",
          "data": {
            "text/plain": [
              "Alise      10\n",
              "Andrew     30\n",
              "Bob        20\n",
              "Matt       25\n",
              "Charles     4\n",
              "Ann         0\n",
              "dtype: int64"
            ]
          },
          "metadata": {
            "tags": []
          },
          "execution_count": 3
        }
      ]
    },
    {
      "cell_type": "code",
      "metadata": {
        "id": "WvzjCv0dmBD4",
        "outputId": "ebd68655-ddaf-4c7e-cf62-e953bc937222"
      },
      "source": [
        "apples[apples > 15]"
      ],
      "execution_count": null,
      "outputs": [
        {
          "output_type": "execute_result",
          "data": {
            "text/plain": [
              "Andrew    30\n",
              "Bob       20\n",
              "Matt      25\n",
              "dtype: int64"
            ]
          },
          "metadata": {
            "tags": []
          },
          "execution_count": 4
        }
      ]
    },
    {
      "cell_type": "code",
      "metadata": {
        "id": "mr2SxsxumBD7",
        "outputId": "bbcde35b-6948-4478-dbb4-f809b6f4d455"
      },
      "source": [
        "(apples > 15)"
      ],
      "execution_count": null,
      "outputs": [
        {
          "output_type": "execute_result",
          "data": {
            "text/plain": [
              "Alise      False\n",
              "Andrew      True\n",
              "Bob         True\n",
              "Matt        True\n",
              "Charles    False\n",
              "Ann        False\n",
              "dtype: bool"
            ]
          },
          "metadata": {
            "tags": []
          },
          "execution_count": 7
        }
      ]
    },
    {
      "cell_type": "code",
      "metadata": {
        "id": "3vT0XZqwmBD9",
        "outputId": "97d43910-84f1-4c4d-99c1-92ca5e5fea68"
      },
      "source": [
        "apples.Andrew"
      ],
      "execution_count": null,
      "outputs": [
        {
          "output_type": "execute_result",
          "data": {
            "text/plain": [
              "30"
            ]
          },
          "metadata": {
            "tags": []
          },
          "execution_count": 4
        }
      ]
    },
    {
      "cell_type": "code",
      "metadata": {
        "id": "JKhROcjkmBD_",
        "outputId": "d055d28b-7894-4b02-bb7e-b85f0625c729"
      },
      "source": [
        "apples['Carl'] = np.nan\n",
        "apples"
      ],
      "execution_count": null,
      "outputs": [
        {
          "output_type": "execute_result",
          "data": {
            "text/plain": [
              "Alise      10.0\n",
              "Andrew     30.0\n",
              "Bob        20.0\n",
              "Matt       25.0\n",
              "Charles     4.0\n",
              "Ann         0.0\n",
              "Carl        NaN\n",
              "dtype: float64"
            ]
          },
          "metadata": {
            "tags": []
          },
          "execution_count": 5
        }
      ]
    },
    {
      "cell_type": "code",
      "metadata": {
        "id": "fJrk80uYmBEB",
        "outputId": "5a68f70a-191f-4739-c18e-86769030535d"
      },
      "source": [
        "apples.fillna(apples.median(), inplace=True)\n",
        "apples"
      ],
      "execution_count": null,
      "outputs": [
        {
          "output_type": "execute_result",
          "data": {
            "text/plain": [
              "Alise      10.0\n",
              "Andrew     30.0\n",
              "Bob        20.0\n",
              "Matt       25.0\n",
              "Charles     4.0\n",
              "Ann         0.0\n",
              "Carl       15.0\n",
              "dtype: float64"
            ]
          },
          "metadata": {
            "tags": []
          },
          "execution_count": 6
        }
      ]
    },
    {
      "cell_type": "code",
      "metadata": {
        "id": "I4H1VNMymBED"
      },
      "source": [
        "apples = apples.fillna(apples.median())"
      ],
      "execution_count": null,
      "outputs": []
    },
    {
      "cell_type": "code",
      "metadata": {
        "id": "NAYavGUimBEF",
        "outputId": "fdc55486-86d6-4549-fd26-f12ebfcf836d"
      },
      "source": [
        "apples.astype('Int64')"
      ],
      "execution_count": null,
      "outputs": [
        {
          "output_type": "execute_result",
          "data": {
            "text/plain": [
              "Alise      10\n",
              "Andrew     30\n",
              "Bob        20\n",
              "Matt       25\n",
              "Charles     4\n",
              "Ann         0\n",
              "Carl       15\n",
              "dtype: Int64"
            ]
          },
          "metadata": {
            "tags": []
          },
          "execution_count": 8
        }
      ]
    },
    {
      "cell_type": "code",
      "metadata": {
        "id": "BaN9n1ngmBEH",
        "outputId": "c6cfbe2e-2d18-4d80-fdae-a3e3c007ccdf"
      },
      "source": [
        "apples[1]"
      ],
      "execution_count": null,
      "outputs": [
        {
          "output_type": "execute_result",
          "data": {
            "text/plain": [
              "30.0"
            ]
          },
          "metadata": {
            "tags": []
          },
          "execution_count": 9
        }
      ]
    },
    {
      "cell_type": "code",
      "metadata": {
        "id": "PQ3kCuIRmBEJ",
        "outputId": "f0edac95-b8b4-4420-fe2e-8c215d42a685"
      },
      "source": [
        "apples[:3]"
      ],
      "execution_count": null,
      "outputs": [
        {
          "output_type": "execute_result",
          "data": {
            "text/plain": [
              "Alise     10.0\n",
              "Andrew    30.0\n",
              "Bob       20.0\n",
              "dtype: float64"
            ]
          },
          "metadata": {
            "tags": []
          },
          "execution_count": 10
        }
      ]
    },
    {
      "cell_type": "code",
      "metadata": {
        "id": "-c6mfFCymBEL",
        "outputId": "f0af5e2b-e667-4435-bce4-cac27b6fc097"
      },
      "source": [
        "len(apples[apples > 15])"
      ],
      "execution_count": null,
      "outputs": [
        {
          "output_type": "execute_result",
          "data": {
            "text/plain": [
              "3"
            ]
          },
          "metadata": {
            "tags": []
          },
          "execution_count": 11
        }
      ]
    },
    {
      "cell_type": "code",
      "metadata": {
        "id": "uPdJW9FAmBEN",
        "outputId": "0ef894e7-cd7a-4bc2-c818-ec79db2471af"
      },
      "source": [
        "apples[apples > 15].shape"
      ],
      "execution_count": null,
      "outputs": [
        {
          "output_type": "execute_result",
          "data": {
            "text/plain": [
              "(3,)"
            ]
          },
          "metadata": {
            "tags": []
          },
          "execution_count": 12
        }
      ]
    },
    {
      "cell_type": "markdown",
      "metadata": {
        "id": "1C65IptFmBEP"
      },
      "source": [
        "### Работа с DataFrame"
      ]
    },
    {
      "cell_type": "code",
      "metadata": {
        "id": "YqsyCQV4mBEP",
        "outputId": "d84640d1-a0a7-4700-9b4e-e3ed5650f4cf"
      },
      "source": [
        "df1 = pd.DataFrame(np.random.randn(5, 3),\n",
        "                   index=['o1', 'o2', 'o3', 'o4', 'o5'],\n",
        "                   columns=['f1', 'f2', 'f3'])\n",
        "df1"
      ],
      "execution_count": null,
      "outputs": [
        {
          "output_type": "execute_result",
          "data": {
            "text/html": [
              "<div>\n",
              "<style scoped>\n",
              "    .dataframe tbody tr th:only-of-type {\n",
              "        vertical-align: middle;\n",
              "    }\n",
              "\n",
              "    .dataframe tbody tr th {\n",
              "        vertical-align: top;\n",
              "    }\n",
              "\n",
              "    .dataframe thead th {\n",
              "        text-align: right;\n",
              "    }\n",
              "</style>\n",
              "<table border=\"1\" class=\"dataframe\">\n",
              "  <thead>\n",
              "    <tr style=\"text-align: right;\">\n",
              "      <th></th>\n",
              "      <th>f1</th>\n",
              "      <th>f2</th>\n",
              "      <th>f3</th>\n",
              "    </tr>\n",
              "  </thead>\n",
              "  <tbody>\n",
              "    <tr>\n",
              "      <td>o1</td>\n",
              "      <td>-1.264638</td>\n",
              "      <td>1.117795</td>\n",
              "      <td>-0.954762</td>\n",
              "    </tr>\n",
              "    <tr>\n",
              "      <td>o2</td>\n",
              "      <td>-0.779466</td>\n",
              "      <td>1.614751</td>\n",
              "      <td>-1.996082</td>\n",
              "    </tr>\n",
              "    <tr>\n",
              "      <td>o3</td>\n",
              "      <td>0.742429</td>\n",
              "      <td>-2.338454</td>\n",
              "      <td>0.473055</td>\n",
              "    </tr>\n",
              "    <tr>\n",
              "      <td>o4</td>\n",
              "      <td>0.914521</td>\n",
              "      <td>0.714787</td>\n",
              "      <td>0.867325</td>\n",
              "    </tr>\n",
              "    <tr>\n",
              "      <td>o5</td>\n",
              "      <td>-1.746915</td>\n",
              "      <td>-1.350054</td>\n",
              "      <td>-1.717125</td>\n",
              "    </tr>\n",
              "  </tbody>\n",
              "</table>\n",
              "</div>"
            ],
            "text/plain": [
              "          f1        f2        f3\n",
              "o1 -1.264638  1.117795 -0.954762\n",
              "o2 -0.779466  1.614751 -1.996082\n",
              "o3  0.742429 -2.338454  0.473055\n",
              "o4  0.914521  0.714787  0.867325\n",
              "o5 -1.746915 -1.350054 -1.717125"
            ]
          },
          "metadata": {
            "tags": []
          },
          "execution_count": 13
        }
      ]
    },
    {
      "cell_type": "code",
      "metadata": {
        "scrolled": true,
        "id": "_ilgHMCImBER",
        "outputId": "a98d4d8e-587a-4f12-c3e0-cd46b6761715"
      },
      "source": [
        "df2 = pd.DataFrame({'A': np.random.random(5),\n",
        "                    'B': ['a', 'b', 'c', 'd', 'e'],\n",
        "                    'C': np.arange(5) > 2})\n",
        "df2"
      ],
      "execution_count": null,
      "outputs": [
        {
          "output_type": "execute_result",
          "data": {
            "text/html": [
              "<div>\n",
              "<style scoped>\n",
              "    .dataframe tbody tr th:only-of-type {\n",
              "        vertical-align: middle;\n",
              "    }\n",
              "\n",
              "    .dataframe tbody tr th {\n",
              "        vertical-align: top;\n",
              "    }\n",
              "\n",
              "    .dataframe thead th {\n",
              "        text-align: right;\n",
              "    }\n",
              "</style>\n",
              "<table border=\"1\" class=\"dataframe\">\n",
              "  <thead>\n",
              "    <tr style=\"text-align: right;\">\n",
              "      <th></th>\n",
              "      <th>A</th>\n",
              "      <th>B</th>\n",
              "      <th>C</th>\n",
              "    </tr>\n",
              "  </thead>\n",
              "  <tbody>\n",
              "    <tr>\n",
              "      <td>0</td>\n",
              "      <td>0.818459</td>\n",
              "      <td>a</td>\n",
              "      <td>False</td>\n",
              "    </tr>\n",
              "    <tr>\n",
              "      <td>1</td>\n",
              "      <td>0.081877</td>\n",
              "      <td>b</td>\n",
              "      <td>False</td>\n",
              "    </tr>\n",
              "    <tr>\n",
              "      <td>2</td>\n",
              "      <td>0.281193</td>\n",
              "      <td>c</td>\n",
              "      <td>False</td>\n",
              "    </tr>\n",
              "    <tr>\n",
              "      <td>3</td>\n",
              "      <td>0.667704</td>\n",
              "      <td>d</td>\n",
              "      <td>True</td>\n",
              "    </tr>\n",
              "    <tr>\n",
              "      <td>4</td>\n",
              "      <td>0.581049</td>\n",
              "      <td>e</td>\n",
              "      <td>True</td>\n",
              "    </tr>\n",
              "  </tbody>\n",
              "</table>\n",
              "</div>"
            ],
            "text/plain": [
              "          A  B      C\n",
              "0  0.818459  a  False\n",
              "1  0.081877  b  False\n",
              "2  0.281193  c  False\n",
              "3  0.667704  d   True\n",
              "4  0.581049  e   True"
            ]
          },
          "metadata": {
            "tags": []
          },
          "execution_count": 14
        }
      ]
    },
    {
      "cell_type": "code",
      "metadata": {
        "id": "BXre_aRtmBET",
        "outputId": "585622d5-947e-463c-8c3c-64f85b73c317"
      },
      "source": [
        "df2.loc[3, 'B']"
      ],
      "execution_count": null,
      "outputs": [
        {
          "output_type": "execute_result",
          "data": {
            "text/plain": [
              "'d'"
            ]
          },
          "metadata": {
            "tags": []
          },
          "execution_count": 15
        }
      ]
    },
    {
      "cell_type": "code",
      "metadata": {
        "id": "g7CzZns8mBEV",
        "outputId": "d82784ae-5173-41ae-c6cd-9989ed594049"
      },
      "source": [
        "df2.loc[:, :]"
      ],
      "execution_count": null,
      "outputs": [
        {
          "output_type": "execute_result",
          "data": {
            "text/html": [
              "<div>\n",
              "<style scoped>\n",
              "    .dataframe tbody tr th:only-of-type {\n",
              "        vertical-align: middle;\n",
              "    }\n",
              "\n",
              "    .dataframe tbody tr th {\n",
              "        vertical-align: top;\n",
              "    }\n",
              "\n",
              "    .dataframe thead th {\n",
              "        text-align: right;\n",
              "    }\n",
              "</style>\n",
              "<table border=\"1\" class=\"dataframe\">\n",
              "  <thead>\n",
              "    <tr style=\"text-align: right;\">\n",
              "      <th></th>\n",
              "      <th>A</th>\n",
              "      <th>B</th>\n",
              "      <th>C</th>\n",
              "    </tr>\n",
              "  </thead>\n",
              "  <tbody>\n",
              "    <tr>\n",
              "      <td>0</td>\n",
              "      <td>0.818459</td>\n",
              "      <td>a</td>\n",
              "      <td>False</td>\n",
              "    </tr>\n",
              "    <tr>\n",
              "      <td>1</td>\n",
              "      <td>0.081877</td>\n",
              "      <td>b</td>\n",
              "      <td>False</td>\n",
              "    </tr>\n",
              "    <tr>\n",
              "      <td>2</td>\n",
              "      <td>0.281193</td>\n",
              "      <td>c</td>\n",
              "      <td>False</td>\n",
              "    </tr>\n",
              "    <tr>\n",
              "      <td>3</td>\n",
              "      <td>0.667704</td>\n",
              "      <td>d</td>\n",
              "      <td>True</td>\n",
              "    </tr>\n",
              "    <tr>\n",
              "      <td>4</td>\n",
              "      <td>0.581049</td>\n",
              "      <td>e</td>\n",
              "      <td>True</td>\n",
              "    </tr>\n",
              "  </tbody>\n",
              "</table>\n",
              "</div>"
            ],
            "text/plain": [
              "          A  B      C\n",
              "0  0.818459  a  False\n",
              "1  0.081877  b  False\n",
              "2  0.281193  c  False\n",
              "3  0.667704  d   True\n",
              "4  0.581049  e   True"
            ]
          },
          "metadata": {
            "tags": []
          },
          "execution_count": 16
        }
      ]
    },
    {
      "cell_type": "code",
      "metadata": {
        "id": "KSGV50LQmBEW",
        "outputId": "faf0a369-96b3-40a9-9634-106f2aa20f54"
      },
      "source": [
        "df2.at[2, 'B'] = 'F'\n",
        "df2"
      ],
      "execution_count": null,
      "outputs": [
        {
          "output_type": "execute_result",
          "data": {
            "text/html": [
              "<div>\n",
              "<style scoped>\n",
              "    .dataframe tbody tr th:only-of-type {\n",
              "        vertical-align: middle;\n",
              "    }\n",
              "\n",
              "    .dataframe tbody tr th {\n",
              "        vertical-align: top;\n",
              "    }\n",
              "\n",
              "    .dataframe thead th {\n",
              "        text-align: right;\n",
              "    }\n",
              "</style>\n",
              "<table border=\"1\" class=\"dataframe\">\n",
              "  <thead>\n",
              "    <tr style=\"text-align: right;\">\n",
              "      <th></th>\n",
              "      <th>A</th>\n",
              "      <th>B</th>\n",
              "      <th>C</th>\n",
              "    </tr>\n",
              "  </thead>\n",
              "  <tbody>\n",
              "    <tr>\n",
              "      <td>0</td>\n",
              "      <td>0.818459</td>\n",
              "      <td>a</td>\n",
              "      <td>False</td>\n",
              "    </tr>\n",
              "    <tr>\n",
              "      <td>1</td>\n",
              "      <td>0.081877</td>\n",
              "      <td>b</td>\n",
              "      <td>False</td>\n",
              "    </tr>\n",
              "    <tr>\n",
              "      <td>2</td>\n",
              "      <td>0.281193</td>\n",
              "      <td>F</td>\n",
              "      <td>False</td>\n",
              "    </tr>\n",
              "    <tr>\n",
              "      <td>3</td>\n",
              "      <td>0.667704</td>\n",
              "      <td>d</td>\n",
              "      <td>True</td>\n",
              "    </tr>\n",
              "    <tr>\n",
              "      <td>4</td>\n",
              "      <td>0.581049</td>\n",
              "      <td>e</td>\n",
              "      <td>True</td>\n",
              "    </tr>\n",
              "  </tbody>\n",
              "</table>\n",
              "</div>"
            ],
            "text/plain": [
              "          A  B      C\n",
              "0  0.818459  a  False\n",
              "1  0.081877  b  False\n",
              "2  0.281193  F  False\n",
              "3  0.667704  d   True\n",
              "4  0.581049  e   True"
            ]
          },
          "metadata": {
            "tags": []
          },
          "execution_count": 17
        }
      ]
    },
    {
      "cell_type": "code",
      "metadata": {
        "id": "x_70YPJomBEY",
        "outputId": "677ee668-541c-40b5-b781-f9d1c0071e20"
      },
      "source": [
        "df2.loc[[3, 4], 'B'] = 'Q'\n",
        "df2"
      ],
      "execution_count": null,
      "outputs": [
        {
          "output_type": "execute_result",
          "data": {
            "text/html": [
              "<div>\n",
              "<style scoped>\n",
              "    .dataframe tbody tr th:only-of-type {\n",
              "        vertical-align: middle;\n",
              "    }\n",
              "\n",
              "    .dataframe tbody tr th {\n",
              "        vertical-align: top;\n",
              "    }\n",
              "\n",
              "    .dataframe thead th {\n",
              "        text-align: right;\n",
              "    }\n",
              "</style>\n",
              "<table border=\"1\" class=\"dataframe\">\n",
              "  <thead>\n",
              "    <tr style=\"text-align: right;\">\n",
              "      <th></th>\n",
              "      <th>A</th>\n",
              "      <th>B</th>\n",
              "      <th>C</th>\n",
              "    </tr>\n",
              "  </thead>\n",
              "  <tbody>\n",
              "    <tr>\n",
              "      <td>0</td>\n",
              "      <td>0.818459</td>\n",
              "      <td>a</td>\n",
              "      <td>False</td>\n",
              "    </tr>\n",
              "    <tr>\n",
              "      <td>1</td>\n",
              "      <td>0.081877</td>\n",
              "      <td>b</td>\n",
              "      <td>False</td>\n",
              "    </tr>\n",
              "    <tr>\n",
              "      <td>2</td>\n",
              "      <td>0.281193</td>\n",
              "      <td>F</td>\n",
              "      <td>False</td>\n",
              "    </tr>\n",
              "    <tr>\n",
              "      <td>3</td>\n",
              "      <td>0.667704</td>\n",
              "      <td>Q</td>\n",
              "      <td>True</td>\n",
              "    </tr>\n",
              "    <tr>\n",
              "      <td>4</td>\n",
              "      <td>0.581049</td>\n",
              "      <td>Q</td>\n",
              "      <td>True</td>\n",
              "    </tr>\n",
              "  </tbody>\n",
              "</table>\n",
              "</div>"
            ],
            "text/plain": [
              "          A  B      C\n",
              "0  0.818459  a  False\n",
              "1  0.081877  b  False\n",
              "2  0.281193  F  False\n",
              "3  0.667704  Q   True\n",
              "4  0.581049  Q   True"
            ]
          },
          "metadata": {
            "tags": []
          },
          "execution_count": 18
        }
      ]
    },
    {
      "cell_type": "code",
      "metadata": {
        "id": "W-strGRAmBEa",
        "outputId": "6a9a5a2c-f2bc-412c-cd53-10441446be22"
      },
      "source": [
        "df2.loc[5] = 3.1415\n",
        "df2"
      ],
      "execution_count": null,
      "outputs": [
        {
          "output_type": "execute_result",
          "data": {
            "text/html": [
              "<div>\n",
              "<style scoped>\n",
              "    .dataframe tbody tr th:only-of-type {\n",
              "        vertical-align: middle;\n",
              "    }\n",
              "\n",
              "    .dataframe tbody tr th {\n",
              "        vertical-align: top;\n",
              "    }\n",
              "\n",
              "    .dataframe thead th {\n",
              "        text-align: right;\n",
              "    }\n",
              "</style>\n",
              "<table border=\"1\" class=\"dataframe\">\n",
              "  <thead>\n",
              "    <tr style=\"text-align: right;\">\n",
              "      <th></th>\n",
              "      <th>A</th>\n",
              "      <th>B</th>\n",
              "      <th>C</th>\n",
              "    </tr>\n",
              "  </thead>\n",
              "  <tbody>\n",
              "    <tr>\n",
              "      <td>0</td>\n",
              "      <td>0.818459</td>\n",
              "      <td>a</td>\n",
              "      <td>0.0000</td>\n",
              "    </tr>\n",
              "    <tr>\n",
              "      <td>1</td>\n",
              "      <td>0.081877</td>\n",
              "      <td>b</td>\n",
              "      <td>0.0000</td>\n",
              "    </tr>\n",
              "    <tr>\n",
              "      <td>2</td>\n",
              "      <td>0.281193</td>\n",
              "      <td>F</td>\n",
              "      <td>0.0000</td>\n",
              "    </tr>\n",
              "    <tr>\n",
              "      <td>3</td>\n",
              "      <td>0.667704</td>\n",
              "      <td>Q</td>\n",
              "      <td>1.0000</td>\n",
              "    </tr>\n",
              "    <tr>\n",
              "      <td>4</td>\n",
              "      <td>0.581049</td>\n",
              "      <td>Q</td>\n",
              "      <td>1.0000</td>\n",
              "    </tr>\n",
              "    <tr>\n",
              "      <td>5</td>\n",
              "      <td>3.141500</td>\n",
              "      <td>3.1415</td>\n",
              "      <td>3.1415</td>\n",
              "    </tr>\n",
              "  </tbody>\n",
              "</table>\n",
              "</div>"
            ],
            "text/plain": [
              "          A       B       C\n",
              "0  0.818459       a  0.0000\n",
              "1  0.081877       b  0.0000\n",
              "2  0.281193       F  0.0000\n",
              "3  0.667704       Q  1.0000\n",
              "4  0.581049       Q  1.0000\n",
              "5  3.141500  3.1415  3.1415"
            ]
          },
          "metadata": {
            "tags": []
          },
          "execution_count": 19
        }
      ]
    },
    {
      "cell_type": "code",
      "metadata": {
        "id": "M_tJu4W7mBEc",
        "outputId": "9072497e-4f7f-48ab-c534-1e5bbed3cce4"
      },
      "source": [
        "df2.iloc[2, 0] = 14.31\n",
        "df2"
      ],
      "execution_count": null,
      "outputs": [
        {
          "output_type": "execute_result",
          "data": {
            "text/html": [
              "<div>\n",
              "<style scoped>\n",
              "    .dataframe tbody tr th:only-of-type {\n",
              "        vertical-align: middle;\n",
              "    }\n",
              "\n",
              "    .dataframe tbody tr th {\n",
              "        vertical-align: top;\n",
              "    }\n",
              "\n",
              "    .dataframe thead th {\n",
              "        text-align: right;\n",
              "    }\n",
              "</style>\n",
              "<table border=\"1\" class=\"dataframe\">\n",
              "  <thead>\n",
              "    <tr style=\"text-align: right;\">\n",
              "      <th></th>\n",
              "      <th>A</th>\n",
              "      <th>B</th>\n",
              "      <th>C</th>\n",
              "    </tr>\n",
              "  </thead>\n",
              "  <tbody>\n",
              "    <tr>\n",
              "      <td>0</td>\n",
              "      <td>0.818459</td>\n",
              "      <td>a</td>\n",
              "      <td>0.0000</td>\n",
              "    </tr>\n",
              "    <tr>\n",
              "      <td>1</td>\n",
              "      <td>0.081877</td>\n",
              "      <td>b</td>\n",
              "      <td>0.0000</td>\n",
              "    </tr>\n",
              "    <tr>\n",
              "      <td>2</td>\n",
              "      <td>14.310000</td>\n",
              "      <td>F</td>\n",
              "      <td>0.0000</td>\n",
              "    </tr>\n",
              "    <tr>\n",
              "      <td>3</td>\n",
              "      <td>0.667704</td>\n",
              "      <td>Q</td>\n",
              "      <td>1.0000</td>\n",
              "    </tr>\n",
              "    <tr>\n",
              "      <td>4</td>\n",
              "      <td>0.581049</td>\n",
              "      <td>Q</td>\n",
              "      <td>1.0000</td>\n",
              "    </tr>\n",
              "    <tr>\n",
              "      <td>5</td>\n",
              "      <td>3.141500</td>\n",
              "      <td>3.1415</td>\n",
              "      <td>3.1415</td>\n",
              "    </tr>\n",
              "  </tbody>\n",
              "</table>\n",
              "</div>"
            ],
            "text/plain": [
              "           A       B       C\n",
              "0   0.818459       a  0.0000\n",
              "1   0.081877       b  0.0000\n",
              "2  14.310000       F  0.0000\n",
              "3   0.667704       Q  1.0000\n",
              "4   0.581049       Q  1.0000\n",
              "5   3.141500  3.1415  3.1415"
            ]
          },
          "metadata": {
            "tags": []
          },
          "execution_count": 20
        }
      ]
    },
    {
      "cell_type": "code",
      "metadata": {
        "id": "EkZ2RvFRmBEe",
        "outputId": "2272eb47-3382-494a-d38c-99fbc8e8009f"
      },
      "source": [
        "df2 = df2.rename({'B': 'BBBBB', 'C': 'CCCCC'}, axis=1)\n",
        "df2"
      ],
      "execution_count": null,
      "outputs": [
        {
          "output_type": "execute_result",
          "data": {
            "text/html": [
              "<div>\n",
              "<style scoped>\n",
              "    .dataframe tbody tr th:only-of-type {\n",
              "        vertical-align: middle;\n",
              "    }\n",
              "\n",
              "    .dataframe tbody tr th {\n",
              "        vertical-align: top;\n",
              "    }\n",
              "\n",
              "    .dataframe thead th {\n",
              "        text-align: right;\n",
              "    }\n",
              "</style>\n",
              "<table border=\"1\" class=\"dataframe\">\n",
              "  <thead>\n",
              "    <tr style=\"text-align: right;\">\n",
              "      <th></th>\n",
              "      <th>A</th>\n",
              "      <th>BBBBB</th>\n",
              "      <th>CCCCC</th>\n",
              "    </tr>\n",
              "  </thead>\n",
              "  <tbody>\n",
              "    <tr>\n",
              "      <td>0</td>\n",
              "      <td>0.818459</td>\n",
              "      <td>a</td>\n",
              "      <td>0.0000</td>\n",
              "    </tr>\n",
              "    <tr>\n",
              "      <td>1</td>\n",
              "      <td>0.081877</td>\n",
              "      <td>b</td>\n",
              "      <td>0.0000</td>\n",
              "    </tr>\n",
              "    <tr>\n",
              "      <td>2</td>\n",
              "      <td>14.310000</td>\n",
              "      <td>F</td>\n",
              "      <td>0.0000</td>\n",
              "    </tr>\n",
              "    <tr>\n",
              "      <td>3</td>\n",
              "      <td>0.667704</td>\n",
              "      <td>Q</td>\n",
              "      <td>1.0000</td>\n",
              "    </tr>\n",
              "    <tr>\n",
              "      <td>4</td>\n",
              "      <td>0.581049</td>\n",
              "      <td>Q</td>\n",
              "      <td>1.0000</td>\n",
              "    </tr>\n",
              "    <tr>\n",
              "      <td>5</td>\n",
              "      <td>3.141500</td>\n",
              "      <td>3.1415</td>\n",
              "      <td>3.1415</td>\n",
              "    </tr>\n",
              "  </tbody>\n",
              "</table>\n",
              "</div>"
            ],
            "text/plain": [
              "           A   BBBBB   CCCCC\n",
              "0   0.818459       a  0.0000\n",
              "1   0.081877       b  0.0000\n",
              "2  14.310000       F  0.0000\n",
              "3   0.667704       Q  1.0000\n",
              "4   0.581049       Q  1.0000\n",
              "5   3.141500  3.1415  3.1415"
            ]
          },
          "metadata": {
            "tags": []
          },
          "execution_count": 21
        }
      ]
    },
    {
      "cell_type": "code",
      "metadata": {
        "id": "roFBNKAqmBEf",
        "outputId": "41b06d01-1947-4a48-86c4-73c0d88a482a"
      },
      "source": [
        "df2.columns = ['AAAAA', 'B', 'C']\n",
        "df2"
      ],
      "execution_count": null,
      "outputs": [
        {
          "output_type": "execute_result",
          "data": {
            "text/html": [
              "<div>\n",
              "<style scoped>\n",
              "    .dataframe tbody tr th:only-of-type {\n",
              "        vertical-align: middle;\n",
              "    }\n",
              "\n",
              "    .dataframe tbody tr th {\n",
              "        vertical-align: top;\n",
              "    }\n",
              "\n",
              "    .dataframe thead th {\n",
              "        text-align: right;\n",
              "    }\n",
              "</style>\n",
              "<table border=\"1\" class=\"dataframe\">\n",
              "  <thead>\n",
              "    <tr style=\"text-align: right;\">\n",
              "      <th></th>\n",
              "      <th>AAAAA</th>\n",
              "      <th>B</th>\n",
              "      <th>C</th>\n",
              "    </tr>\n",
              "  </thead>\n",
              "  <tbody>\n",
              "    <tr>\n",
              "      <td>0</td>\n",
              "      <td>0.818459</td>\n",
              "      <td>a</td>\n",
              "      <td>0.0000</td>\n",
              "    </tr>\n",
              "    <tr>\n",
              "      <td>1</td>\n",
              "      <td>0.081877</td>\n",
              "      <td>b</td>\n",
              "      <td>0.0000</td>\n",
              "    </tr>\n",
              "    <tr>\n",
              "      <td>2</td>\n",
              "      <td>14.310000</td>\n",
              "      <td>F</td>\n",
              "      <td>0.0000</td>\n",
              "    </tr>\n",
              "    <tr>\n",
              "      <td>3</td>\n",
              "      <td>0.667704</td>\n",
              "      <td>Q</td>\n",
              "      <td>1.0000</td>\n",
              "    </tr>\n",
              "    <tr>\n",
              "      <td>4</td>\n",
              "      <td>0.581049</td>\n",
              "      <td>Q</td>\n",
              "      <td>1.0000</td>\n",
              "    </tr>\n",
              "    <tr>\n",
              "      <td>5</td>\n",
              "      <td>3.141500</td>\n",
              "      <td>3.1415</td>\n",
              "      <td>3.1415</td>\n",
              "    </tr>\n",
              "  </tbody>\n",
              "</table>\n",
              "</div>"
            ],
            "text/plain": [
              "       AAAAA       B       C\n",
              "0   0.818459       a  0.0000\n",
              "1   0.081877       b  0.0000\n",
              "2  14.310000       F  0.0000\n",
              "3   0.667704       Q  1.0000\n",
              "4   0.581049       Q  1.0000\n",
              "5   3.141500  3.1415  3.1415"
            ]
          },
          "metadata": {
            "tags": []
          },
          "execution_count": 22
        }
      ]
    },
    {
      "cell_type": "code",
      "metadata": {
        "id": "EVxt-9SfmBEh",
        "outputId": "03658871-7273-4401-e64c-82290c87fa46"
      },
      "source": [
        "df1.columns = ['A', 'B', 'C']\n",
        "df3 = df1.append(df2, sort=False)\n",
        "df3"
      ],
      "execution_count": null,
      "outputs": [
        {
          "output_type": "execute_result",
          "data": {
            "text/html": [
              "<div>\n",
              "<style scoped>\n",
              "    .dataframe tbody tr th:only-of-type {\n",
              "        vertical-align: middle;\n",
              "    }\n",
              "\n",
              "    .dataframe tbody tr th {\n",
              "        vertical-align: top;\n",
              "    }\n",
              "\n",
              "    .dataframe thead th {\n",
              "        text-align: right;\n",
              "    }\n",
              "</style>\n",
              "<table border=\"1\" class=\"dataframe\">\n",
              "  <thead>\n",
              "    <tr style=\"text-align: right;\">\n",
              "      <th></th>\n",
              "      <th>A</th>\n",
              "      <th>B</th>\n",
              "      <th>C</th>\n",
              "      <th>AAAAA</th>\n",
              "    </tr>\n",
              "  </thead>\n",
              "  <tbody>\n",
              "    <tr>\n",
              "      <td>o1</td>\n",
              "      <td>-1.264638</td>\n",
              "      <td>1.11779</td>\n",
              "      <td>-0.954762</td>\n",
              "      <td>NaN</td>\n",
              "    </tr>\n",
              "    <tr>\n",
              "      <td>o2</td>\n",
              "      <td>-0.779466</td>\n",
              "      <td>1.61475</td>\n",
              "      <td>-1.996082</td>\n",
              "      <td>NaN</td>\n",
              "    </tr>\n",
              "    <tr>\n",
              "      <td>o3</td>\n",
              "      <td>0.742429</td>\n",
              "      <td>-2.33845</td>\n",
              "      <td>0.473055</td>\n",
              "      <td>NaN</td>\n",
              "    </tr>\n",
              "    <tr>\n",
              "      <td>o4</td>\n",
              "      <td>0.914521</td>\n",
              "      <td>0.714787</td>\n",
              "      <td>0.867325</td>\n",
              "      <td>NaN</td>\n",
              "    </tr>\n",
              "    <tr>\n",
              "      <td>o5</td>\n",
              "      <td>-1.746915</td>\n",
              "      <td>-1.35005</td>\n",
              "      <td>-1.717125</td>\n",
              "      <td>NaN</td>\n",
              "    </tr>\n",
              "    <tr>\n",
              "      <td>0</td>\n",
              "      <td>NaN</td>\n",
              "      <td>a</td>\n",
              "      <td>0.000000</td>\n",
              "      <td>0.818459</td>\n",
              "    </tr>\n",
              "    <tr>\n",
              "      <td>1</td>\n",
              "      <td>NaN</td>\n",
              "      <td>b</td>\n",
              "      <td>0.000000</td>\n",
              "      <td>0.081877</td>\n",
              "    </tr>\n",
              "    <tr>\n",
              "      <td>2</td>\n",
              "      <td>NaN</td>\n",
              "      <td>F</td>\n",
              "      <td>0.000000</td>\n",
              "      <td>14.310000</td>\n",
              "    </tr>\n",
              "    <tr>\n",
              "      <td>3</td>\n",
              "      <td>NaN</td>\n",
              "      <td>Q</td>\n",
              "      <td>1.000000</td>\n",
              "      <td>0.667704</td>\n",
              "    </tr>\n",
              "    <tr>\n",
              "      <td>4</td>\n",
              "      <td>NaN</td>\n",
              "      <td>Q</td>\n",
              "      <td>1.000000</td>\n",
              "      <td>0.581049</td>\n",
              "    </tr>\n",
              "    <tr>\n",
              "      <td>5</td>\n",
              "      <td>NaN</td>\n",
              "      <td>3.1415</td>\n",
              "      <td>3.141500</td>\n",
              "      <td>3.141500</td>\n",
              "    </tr>\n",
              "  </tbody>\n",
              "</table>\n",
              "</div>"
            ],
            "text/plain": [
              "           A         B         C      AAAAA\n",
              "o1 -1.264638   1.11779 -0.954762        NaN\n",
              "o2 -0.779466   1.61475 -1.996082        NaN\n",
              "o3  0.742429  -2.33845  0.473055        NaN\n",
              "o4  0.914521  0.714787  0.867325        NaN\n",
              "o5 -1.746915  -1.35005 -1.717125        NaN\n",
              "0        NaN         a  0.000000   0.818459\n",
              "1        NaN         b  0.000000   0.081877\n",
              "2        NaN         F  0.000000  14.310000\n",
              "3        NaN         Q  1.000000   0.667704\n",
              "4        NaN         Q  1.000000   0.581049\n",
              "5        NaN    3.1415  3.141500   3.141500"
            ]
          },
          "metadata": {
            "tags": []
          },
          "execution_count": 23
        }
      ]
    },
    {
      "cell_type": "code",
      "metadata": {
        "id": "Pr5Pnd01mBEi",
        "outputId": "1ecc1fdd-a48b-462a-add6-4ca2a1a32dff"
      },
      "source": [
        "df1.at['o2', 'A'] = np.nan\n",
        "df1.at['o4', 'C'] = np.nan\n",
        "df1"
      ],
      "execution_count": null,
      "outputs": [
        {
          "output_type": "execute_result",
          "data": {
            "text/html": [
              "<div>\n",
              "<style scoped>\n",
              "    .dataframe tbody tr th:only-of-type {\n",
              "        vertical-align: middle;\n",
              "    }\n",
              "\n",
              "    .dataframe tbody tr th {\n",
              "        vertical-align: top;\n",
              "    }\n",
              "\n",
              "    .dataframe thead th {\n",
              "        text-align: right;\n",
              "    }\n",
              "</style>\n",
              "<table border=\"1\" class=\"dataframe\">\n",
              "  <thead>\n",
              "    <tr style=\"text-align: right;\">\n",
              "      <th></th>\n",
              "      <th>A</th>\n",
              "      <th>B</th>\n",
              "      <th>C</th>\n",
              "    </tr>\n",
              "  </thead>\n",
              "  <tbody>\n",
              "    <tr>\n",
              "      <td>o1</td>\n",
              "      <td>-1.264638</td>\n",
              "      <td>1.117795</td>\n",
              "      <td>-0.954762</td>\n",
              "    </tr>\n",
              "    <tr>\n",
              "      <td>o2</td>\n",
              "      <td>NaN</td>\n",
              "      <td>1.614751</td>\n",
              "      <td>-1.996082</td>\n",
              "    </tr>\n",
              "    <tr>\n",
              "      <td>o3</td>\n",
              "      <td>0.742429</td>\n",
              "      <td>-2.338454</td>\n",
              "      <td>0.473055</td>\n",
              "    </tr>\n",
              "    <tr>\n",
              "      <td>o4</td>\n",
              "      <td>0.914521</td>\n",
              "      <td>0.714787</td>\n",
              "      <td>NaN</td>\n",
              "    </tr>\n",
              "    <tr>\n",
              "      <td>o5</td>\n",
              "      <td>-1.746915</td>\n",
              "      <td>-1.350054</td>\n",
              "      <td>-1.717125</td>\n",
              "    </tr>\n",
              "  </tbody>\n",
              "</table>\n",
              "</div>"
            ],
            "text/plain": [
              "           A         B         C\n",
              "o1 -1.264638  1.117795 -0.954762\n",
              "o2       NaN  1.614751 -1.996082\n",
              "o3  0.742429 -2.338454  0.473055\n",
              "o4  0.914521  0.714787       NaN\n",
              "o5 -1.746915 -1.350054 -1.717125"
            ]
          },
          "metadata": {
            "tags": []
          },
          "execution_count": 24
        }
      ]
    },
    {
      "cell_type": "code",
      "metadata": {
        "id": "MqdflVkxmBEk",
        "outputId": "62927ae8-17bf-4cc3-d5b4-ebdc55c93fb7"
      },
      "source": [
        "pd.isnull(df1)"
      ],
      "execution_count": null,
      "outputs": [
        {
          "output_type": "execute_result",
          "data": {
            "text/html": [
              "<div>\n",
              "<style scoped>\n",
              "    .dataframe tbody tr th:only-of-type {\n",
              "        vertical-align: middle;\n",
              "    }\n",
              "\n",
              "    .dataframe tbody tr th {\n",
              "        vertical-align: top;\n",
              "    }\n",
              "\n",
              "    .dataframe thead th {\n",
              "        text-align: right;\n",
              "    }\n",
              "</style>\n",
              "<table border=\"1\" class=\"dataframe\">\n",
              "  <thead>\n",
              "    <tr style=\"text-align: right;\">\n",
              "      <th></th>\n",
              "      <th>A</th>\n",
              "      <th>B</th>\n",
              "      <th>C</th>\n",
              "    </tr>\n",
              "  </thead>\n",
              "  <tbody>\n",
              "    <tr>\n",
              "      <td>o1</td>\n",
              "      <td>False</td>\n",
              "      <td>False</td>\n",
              "      <td>False</td>\n",
              "    </tr>\n",
              "    <tr>\n",
              "      <td>o2</td>\n",
              "      <td>True</td>\n",
              "      <td>False</td>\n",
              "      <td>False</td>\n",
              "    </tr>\n",
              "    <tr>\n",
              "      <td>o3</td>\n",
              "      <td>False</td>\n",
              "      <td>False</td>\n",
              "      <td>False</td>\n",
              "    </tr>\n",
              "    <tr>\n",
              "      <td>o4</td>\n",
              "      <td>False</td>\n",
              "      <td>False</td>\n",
              "      <td>True</td>\n",
              "    </tr>\n",
              "    <tr>\n",
              "      <td>o5</td>\n",
              "      <td>False</td>\n",
              "      <td>False</td>\n",
              "      <td>False</td>\n",
              "    </tr>\n",
              "  </tbody>\n",
              "</table>\n",
              "</div>"
            ],
            "text/plain": [
              "        A      B      C\n",
              "o1  False  False  False\n",
              "o2   True  False  False\n",
              "o3  False  False  False\n",
              "o4  False  False   True\n",
              "o5  False  False  False"
            ]
          },
          "metadata": {
            "tags": []
          },
          "execution_count": 25
        }
      ]
    },
    {
      "cell_type": "code",
      "metadata": {
        "id": "Wm7CF2GUmBEm",
        "outputId": "95f5c839-adc2-480e-fe24-512bfdad649e"
      },
      "source": [
        "df1.dropna(how='any')"
      ],
      "execution_count": null,
      "outputs": [
        {
          "output_type": "execute_result",
          "data": {
            "text/html": [
              "<div>\n",
              "<style scoped>\n",
              "    .dataframe tbody tr th:only-of-type {\n",
              "        vertical-align: middle;\n",
              "    }\n",
              "\n",
              "    .dataframe tbody tr th {\n",
              "        vertical-align: top;\n",
              "    }\n",
              "\n",
              "    .dataframe thead th {\n",
              "        text-align: right;\n",
              "    }\n",
              "</style>\n",
              "<table border=\"1\" class=\"dataframe\">\n",
              "  <thead>\n",
              "    <tr style=\"text-align: right;\">\n",
              "      <th></th>\n",
              "      <th>A</th>\n",
              "      <th>B</th>\n",
              "      <th>C</th>\n",
              "    </tr>\n",
              "  </thead>\n",
              "  <tbody>\n",
              "    <tr>\n",
              "      <td>o1</td>\n",
              "      <td>-1.264638</td>\n",
              "      <td>1.117795</td>\n",
              "      <td>-0.954762</td>\n",
              "    </tr>\n",
              "    <tr>\n",
              "      <td>o3</td>\n",
              "      <td>0.742429</td>\n",
              "      <td>-2.338454</td>\n",
              "      <td>0.473055</td>\n",
              "    </tr>\n",
              "    <tr>\n",
              "      <td>o5</td>\n",
              "      <td>-1.746915</td>\n",
              "      <td>-1.350054</td>\n",
              "      <td>-1.717125</td>\n",
              "    </tr>\n",
              "  </tbody>\n",
              "</table>\n",
              "</div>"
            ],
            "text/plain": [
              "           A         B         C\n",
              "o1 -1.264638  1.117795 -0.954762\n",
              "o3  0.742429 -2.338454  0.473055\n",
              "o5 -1.746915 -1.350054 -1.717125"
            ]
          },
          "metadata": {
            "tags": []
          },
          "execution_count": 26
        }
      ]
    },
    {
      "cell_type": "code",
      "metadata": {
        "id": "L47qSYRxmBEn",
        "outputId": "b3e85c40-5c83-423f-905e-c7c1409c0d44"
      },
      "source": [
        "df1.fillna(0)"
      ],
      "execution_count": null,
      "outputs": [
        {
          "output_type": "execute_result",
          "data": {
            "text/html": [
              "<div>\n",
              "<style scoped>\n",
              "    .dataframe tbody tr th:only-of-type {\n",
              "        vertical-align: middle;\n",
              "    }\n",
              "\n",
              "    .dataframe tbody tr th {\n",
              "        vertical-align: top;\n",
              "    }\n",
              "\n",
              "    .dataframe thead th {\n",
              "        text-align: right;\n",
              "    }\n",
              "</style>\n",
              "<table border=\"1\" class=\"dataframe\">\n",
              "  <thead>\n",
              "    <tr style=\"text-align: right;\">\n",
              "      <th></th>\n",
              "      <th>A</th>\n",
              "      <th>B</th>\n",
              "      <th>C</th>\n",
              "    </tr>\n",
              "  </thead>\n",
              "  <tbody>\n",
              "    <tr>\n",
              "      <td>o1</td>\n",
              "      <td>-1.264638</td>\n",
              "      <td>1.117795</td>\n",
              "      <td>-0.954762</td>\n",
              "    </tr>\n",
              "    <tr>\n",
              "      <td>o2</td>\n",
              "      <td>0.000000</td>\n",
              "      <td>1.614751</td>\n",
              "      <td>-1.996082</td>\n",
              "    </tr>\n",
              "    <tr>\n",
              "      <td>o3</td>\n",
              "      <td>0.742429</td>\n",
              "      <td>-2.338454</td>\n",
              "      <td>0.473055</td>\n",
              "    </tr>\n",
              "    <tr>\n",
              "      <td>o4</td>\n",
              "      <td>0.914521</td>\n",
              "      <td>0.714787</td>\n",
              "      <td>0.000000</td>\n",
              "    </tr>\n",
              "    <tr>\n",
              "      <td>o5</td>\n",
              "      <td>-1.746915</td>\n",
              "      <td>-1.350054</td>\n",
              "      <td>-1.717125</td>\n",
              "    </tr>\n",
              "  </tbody>\n",
              "</table>\n",
              "</div>"
            ],
            "text/plain": [
              "           A         B         C\n",
              "o1 -1.264638  1.117795 -0.954762\n",
              "o2  0.000000  1.614751 -1.996082\n",
              "o3  0.742429 -2.338454  0.473055\n",
              "o4  0.914521  0.714787  0.000000\n",
              "o5 -1.746915 -1.350054 -1.717125"
            ]
          },
          "metadata": {
            "tags": []
          },
          "execution_count": 27
        }
      ]
    },
    {
      "cell_type": "markdown",
      "metadata": {
        "id": "qa1z5z1pmBEp"
      },
      "source": [
        "## Примеры анализа"
      ]
    },
    {
      "cell_type": "code",
      "metadata": {
        "id": "vl6Cqgl2mBEp",
        "outputId": "c3b0d958-d92f-455d-f083-c59464e1c0da"
      },
      "source": [
        "filename = 'nba.csv'\n",
        "\n",
        "if not os.path.exists(filename):\n",
        "    tables = pd.read_html(\"http://www.basketball-reference.com/leagues/NBA_2016_games.html\")\n",
        "    games = tables[0]\n",
        "    games.to_csv(filename)\n",
        "else:\n",
        "    games = pd.read_csv(filename)\n",
        "games.head()"
      ],
      "execution_count": null,
      "outputs": [
        {
          "output_type": "execute_result",
          "data": {
            "text/html": [
              "<div>\n",
              "<style scoped>\n",
              "    .dataframe tbody tr th:only-of-type {\n",
              "        vertical-align: middle;\n",
              "    }\n",
              "\n",
              "    .dataframe tbody tr th {\n",
              "        vertical-align: top;\n",
              "    }\n",
              "\n",
              "    .dataframe thead th {\n",
              "        text-align: right;\n",
              "    }\n",
              "</style>\n",
              "<table border=\"1\" class=\"dataframe\">\n",
              "  <thead>\n",
              "    <tr style=\"text-align: right;\">\n",
              "      <th></th>\n",
              "      <th>Unnamed: 0</th>\n",
              "      <th>Date</th>\n",
              "      <th>Start (ET)</th>\n",
              "      <th>Visitor/Neutral</th>\n",
              "      <th>PTS</th>\n",
              "      <th>Home/Neutral</th>\n",
              "      <th>PTS.1</th>\n",
              "      <th>Unnamed: 6</th>\n",
              "      <th>Unnamed: 7</th>\n",
              "      <th>Attend.</th>\n",
              "      <th>Notes</th>\n",
              "    </tr>\n",
              "  </thead>\n",
              "  <tbody>\n",
              "    <tr>\n",
              "      <td>0</td>\n",
              "      <td>0</td>\n",
              "      <td>Tue, Oct 27, 2015</td>\n",
              "      <td>8:00p</td>\n",
              "      <td>Detroit Pistons</td>\n",
              "      <td>106</td>\n",
              "      <td>Atlanta Hawks</td>\n",
              "      <td>94</td>\n",
              "      <td>Box Score</td>\n",
              "      <td>NaN</td>\n",
              "      <td>19187</td>\n",
              "      <td>NaN</td>\n",
              "    </tr>\n",
              "    <tr>\n",
              "      <td>1</td>\n",
              "      <td>1</td>\n",
              "      <td>Tue, Oct 27, 2015</td>\n",
              "      <td>8:00p</td>\n",
              "      <td>Cleveland Cavaliers</td>\n",
              "      <td>95</td>\n",
              "      <td>Chicago Bulls</td>\n",
              "      <td>97</td>\n",
              "      <td>Box Score</td>\n",
              "      <td>NaN</td>\n",
              "      <td>21957</td>\n",
              "      <td>NaN</td>\n",
              "    </tr>\n",
              "    <tr>\n",
              "      <td>2</td>\n",
              "      <td>2</td>\n",
              "      <td>Tue, Oct 27, 2015</td>\n",
              "      <td>10:30p</td>\n",
              "      <td>New Orleans Pelicans</td>\n",
              "      <td>95</td>\n",
              "      <td>Golden State Warriors</td>\n",
              "      <td>111</td>\n",
              "      <td>Box Score</td>\n",
              "      <td>NaN</td>\n",
              "      <td>19596</td>\n",
              "      <td>NaN</td>\n",
              "    </tr>\n",
              "    <tr>\n",
              "      <td>3</td>\n",
              "      <td>3</td>\n",
              "      <td>Wed, Oct 28, 2015</td>\n",
              "      <td>7:00p</td>\n",
              "      <td>Washington Wizards</td>\n",
              "      <td>88</td>\n",
              "      <td>Orlando Magic</td>\n",
              "      <td>87</td>\n",
              "      <td>Box Score</td>\n",
              "      <td>NaN</td>\n",
              "      <td>18846</td>\n",
              "      <td>NaN</td>\n",
              "    </tr>\n",
              "    <tr>\n",
              "      <td>4</td>\n",
              "      <td>4</td>\n",
              "      <td>Wed, Oct 28, 2015</td>\n",
              "      <td>7:30p</td>\n",
              "      <td>Indiana Pacers</td>\n",
              "      <td>99</td>\n",
              "      <td>Toronto Raptors</td>\n",
              "      <td>106</td>\n",
              "      <td>Box Score</td>\n",
              "      <td>NaN</td>\n",
              "      <td>19800</td>\n",
              "      <td>NaN</td>\n",
              "    </tr>\n",
              "  </tbody>\n",
              "</table>\n",
              "</div>"
            ],
            "text/plain": [
              "   Unnamed: 0               Date Start (ET)       Visitor/Neutral  PTS  \\\n",
              "0           0  Tue, Oct 27, 2015      8:00p       Detroit Pistons  106   \n",
              "1           1  Tue, Oct 27, 2015      8:00p   Cleveland Cavaliers   95   \n",
              "2           2  Tue, Oct 27, 2015     10:30p  New Orleans Pelicans   95   \n",
              "3           3  Wed, Oct 28, 2015      7:00p    Washington Wizards   88   \n",
              "4           4  Wed, Oct 28, 2015      7:30p        Indiana Pacers   99   \n",
              "\n",
              "            Home/Neutral  PTS.1 Unnamed: 6 Unnamed: 7  Attend.  Notes  \n",
              "0          Atlanta Hawks     94  Box Score        NaN    19187    NaN  \n",
              "1          Chicago Bulls     97  Box Score        NaN    21957    NaN  \n",
              "2  Golden State Warriors    111  Box Score        NaN    19596    NaN  \n",
              "3          Orlando Magic     87  Box Score        NaN    18846    NaN  \n",
              "4        Toronto Raptors    106  Box Score        NaN    19800    NaN  "
            ]
          },
          "metadata": {
            "tags": []
          },
          "execution_count": 28
        }
      ]
    },
    {
      "cell_type": "code",
      "metadata": {
        "id": "GQ2kq4SimBEr",
        "outputId": "74b2d05c-54c8-4562-987c-d9f980767304"
      },
      "source": [
        "column_names = {'Date': 'date', 'Start (ET)': 'start',\n",
        "                'Unamed: 2': 'box', 'Visitor/Neutral': 'away_team',\n",
        "                'PTS': 'away_points', 'Home/Neutral': 'home_team',\n",
        "                'PTS.1': 'home_points', 'Unamed: 7': 'n_ot'}\n",
        "\n",
        "games = games.rename(columns=column_names)\n",
        "games.head()"
      ],
      "execution_count": null,
      "outputs": [
        {
          "output_type": "execute_result",
          "data": {
            "text/html": [
              "<div>\n",
              "<style scoped>\n",
              "    .dataframe tbody tr th:only-of-type {\n",
              "        vertical-align: middle;\n",
              "    }\n",
              "\n",
              "    .dataframe tbody tr th {\n",
              "        vertical-align: top;\n",
              "    }\n",
              "\n",
              "    .dataframe thead th {\n",
              "        text-align: right;\n",
              "    }\n",
              "</style>\n",
              "<table border=\"1\" class=\"dataframe\">\n",
              "  <thead>\n",
              "    <tr style=\"text-align: right;\">\n",
              "      <th></th>\n",
              "      <th>Unnamed: 0</th>\n",
              "      <th>date</th>\n",
              "      <th>start</th>\n",
              "      <th>away_team</th>\n",
              "      <th>away_points</th>\n",
              "      <th>home_team</th>\n",
              "      <th>home_points</th>\n",
              "      <th>Unnamed: 6</th>\n",
              "      <th>Unnamed: 7</th>\n",
              "      <th>Attend.</th>\n",
              "      <th>Notes</th>\n",
              "    </tr>\n",
              "  </thead>\n",
              "  <tbody>\n",
              "    <tr>\n",
              "      <td>0</td>\n",
              "      <td>0</td>\n",
              "      <td>Tue, Oct 27, 2015</td>\n",
              "      <td>8:00p</td>\n",
              "      <td>Detroit Pistons</td>\n",
              "      <td>106</td>\n",
              "      <td>Atlanta Hawks</td>\n",
              "      <td>94</td>\n",
              "      <td>Box Score</td>\n",
              "      <td>NaN</td>\n",
              "      <td>19187</td>\n",
              "      <td>NaN</td>\n",
              "    </tr>\n",
              "    <tr>\n",
              "      <td>1</td>\n",
              "      <td>1</td>\n",
              "      <td>Tue, Oct 27, 2015</td>\n",
              "      <td>8:00p</td>\n",
              "      <td>Cleveland Cavaliers</td>\n",
              "      <td>95</td>\n",
              "      <td>Chicago Bulls</td>\n",
              "      <td>97</td>\n",
              "      <td>Box Score</td>\n",
              "      <td>NaN</td>\n",
              "      <td>21957</td>\n",
              "      <td>NaN</td>\n",
              "    </tr>\n",
              "    <tr>\n",
              "      <td>2</td>\n",
              "      <td>2</td>\n",
              "      <td>Tue, Oct 27, 2015</td>\n",
              "      <td>10:30p</td>\n",
              "      <td>New Orleans Pelicans</td>\n",
              "      <td>95</td>\n",
              "      <td>Golden State Warriors</td>\n",
              "      <td>111</td>\n",
              "      <td>Box Score</td>\n",
              "      <td>NaN</td>\n",
              "      <td>19596</td>\n",
              "      <td>NaN</td>\n",
              "    </tr>\n",
              "    <tr>\n",
              "      <td>3</td>\n",
              "      <td>3</td>\n",
              "      <td>Wed, Oct 28, 2015</td>\n",
              "      <td>7:00p</td>\n",
              "      <td>Washington Wizards</td>\n",
              "      <td>88</td>\n",
              "      <td>Orlando Magic</td>\n",
              "      <td>87</td>\n",
              "      <td>Box Score</td>\n",
              "      <td>NaN</td>\n",
              "      <td>18846</td>\n",
              "      <td>NaN</td>\n",
              "    </tr>\n",
              "    <tr>\n",
              "      <td>4</td>\n",
              "      <td>4</td>\n",
              "      <td>Wed, Oct 28, 2015</td>\n",
              "      <td>7:30p</td>\n",
              "      <td>Indiana Pacers</td>\n",
              "      <td>99</td>\n",
              "      <td>Toronto Raptors</td>\n",
              "      <td>106</td>\n",
              "      <td>Box Score</td>\n",
              "      <td>NaN</td>\n",
              "      <td>19800</td>\n",
              "      <td>NaN</td>\n",
              "    </tr>\n",
              "  </tbody>\n",
              "</table>\n",
              "</div>"
            ],
            "text/plain": [
              "   Unnamed: 0               date   start             away_team  away_points  \\\n",
              "0           0  Tue, Oct 27, 2015   8:00p       Detroit Pistons          106   \n",
              "1           1  Tue, Oct 27, 2015   8:00p   Cleveland Cavaliers           95   \n",
              "2           2  Tue, Oct 27, 2015  10:30p  New Orleans Pelicans           95   \n",
              "3           3  Wed, Oct 28, 2015   7:00p    Washington Wizards           88   \n",
              "4           4  Wed, Oct 28, 2015   7:30p        Indiana Pacers           99   \n",
              "\n",
              "               home_team  home_points Unnamed: 6 Unnamed: 7  Attend.  Notes  \n",
              "0          Atlanta Hawks           94  Box Score        NaN    19187    NaN  \n",
              "1          Chicago Bulls           97  Box Score        NaN    21957    NaN  \n",
              "2  Golden State Warriors          111  Box Score        NaN    19596    NaN  \n",
              "3          Orlando Magic           87  Box Score        NaN    18846    NaN  \n",
              "4        Toronto Raptors          106  Box Score        NaN    19800    NaN  "
            ]
          },
          "metadata": {
            "tags": []
          },
          "execution_count": 29
        }
      ]
    },
    {
      "cell_type": "code",
      "metadata": {
        "id": "gqBhacXzmBEt",
        "outputId": "1e24b87f-f17b-4961-ef92-079bfa31142f"
      },
      "source": [
        "games = games.dropna(thresh=4)[['date', 'away_team', 'away_points', 'home_team', 'home_points', 'Attend.']]\n",
        "games.head()"
      ],
      "execution_count": null,
      "outputs": [
        {
          "output_type": "execute_result",
          "data": {
            "text/html": [
              "<div>\n",
              "<style scoped>\n",
              "    .dataframe tbody tr th:only-of-type {\n",
              "        vertical-align: middle;\n",
              "    }\n",
              "\n",
              "    .dataframe tbody tr th {\n",
              "        vertical-align: top;\n",
              "    }\n",
              "\n",
              "    .dataframe thead th {\n",
              "        text-align: right;\n",
              "    }\n",
              "</style>\n",
              "<table border=\"1\" class=\"dataframe\">\n",
              "  <thead>\n",
              "    <tr style=\"text-align: right;\">\n",
              "      <th></th>\n",
              "      <th>date</th>\n",
              "      <th>away_team</th>\n",
              "      <th>away_points</th>\n",
              "      <th>home_team</th>\n",
              "      <th>home_points</th>\n",
              "      <th>Attend.</th>\n",
              "    </tr>\n",
              "  </thead>\n",
              "  <tbody>\n",
              "    <tr>\n",
              "      <td>0</td>\n",
              "      <td>Tue, Oct 27, 2015</td>\n",
              "      <td>Detroit Pistons</td>\n",
              "      <td>106</td>\n",
              "      <td>Atlanta Hawks</td>\n",
              "      <td>94</td>\n",
              "      <td>19187</td>\n",
              "    </tr>\n",
              "    <tr>\n",
              "      <td>1</td>\n",
              "      <td>Tue, Oct 27, 2015</td>\n",
              "      <td>Cleveland Cavaliers</td>\n",
              "      <td>95</td>\n",
              "      <td>Chicago Bulls</td>\n",
              "      <td>97</td>\n",
              "      <td>21957</td>\n",
              "    </tr>\n",
              "    <tr>\n",
              "      <td>2</td>\n",
              "      <td>Tue, Oct 27, 2015</td>\n",
              "      <td>New Orleans Pelicans</td>\n",
              "      <td>95</td>\n",
              "      <td>Golden State Warriors</td>\n",
              "      <td>111</td>\n",
              "      <td>19596</td>\n",
              "    </tr>\n",
              "    <tr>\n",
              "      <td>3</td>\n",
              "      <td>Wed, Oct 28, 2015</td>\n",
              "      <td>Washington Wizards</td>\n",
              "      <td>88</td>\n",
              "      <td>Orlando Magic</td>\n",
              "      <td>87</td>\n",
              "      <td>18846</td>\n",
              "    </tr>\n",
              "    <tr>\n",
              "      <td>4</td>\n",
              "      <td>Wed, Oct 28, 2015</td>\n",
              "      <td>Indiana Pacers</td>\n",
              "      <td>99</td>\n",
              "      <td>Toronto Raptors</td>\n",
              "      <td>106</td>\n",
              "      <td>19800</td>\n",
              "    </tr>\n",
              "  </tbody>\n",
              "</table>\n",
              "</div>"
            ],
            "text/plain": [
              "                date             away_team  away_points  \\\n",
              "0  Tue, Oct 27, 2015       Detroit Pistons          106   \n",
              "1  Tue, Oct 27, 2015   Cleveland Cavaliers           95   \n",
              "2  Tue, Oct 27, 2015  New Orleans Pelicans           95   \n",
              "3  Wed, Oct 28, 2015    Washington Wizards           88   \n",
              "4  Wed, Oct 28, 2015        Indiana Pacers           99   \n",
              "\n",
              "               home_team  home_points  Attend.  \n",
              "0          Atlanta Hawks           94    19187  \n",
              "1          Chicago Bulls           97    21957  \n",
              "2  Golden State Warriors          111    19596  \n",
              "3          Orlando Magic           87    18846  \n",
              "4        Toronto Raptors          106    19800  "
            ]
          },
          "metadata": {
            "tags": []
          },
          "execution_count": 30
        }
      ]
    },
    {
      "cell_type": "code",
      "metadata": {
        "id": "gRw_iUrlmBEv",
        "outputId": "a111138f-7dd6-4c2f-a987-de55a4bd9739"
      },
      "source": [
        "games.date = pd.to_datetime(games.date, format='%a, %b %d, %Y')\n",
        "games.head()"
      ],
      "execution_count": null,
      "outputs": [
        {
          "output_type": "execute_result",
          "data": {
            "text/html": [
              "<div>\n",
              "<style scoped>\n",
              "    .dataframe tbody tr th:only-of-type {\n",
              "        vertical-align: middle;\n",
              "    }\n",
              "\n",
              "    .dataframe tbody tr th {\n",
              "        vertical-align: top;\n",
              "    }\n",
              "\n",
              "    .dataframe thead th {\n",
              "        text-align: right;\n",
              "    }\n",
              "</style>\n",
              "<table border=\"1\" class=\"dataframe\">\n",
              "  <thead>\n",
              "    <tr style=\"text-align: right;\">\n",
              "      <th></th>\n",
              "      <th>date</th>\n",
              "      <th>away_team</th>\n",
              "      <th>away_points</th>\n",
              "      <th>home_team</th>\n",
              "      <th>home_points</th>\n",
              "      <th>Attend.</th>\n",
              "    </tr>\n",
              "  </thead>\n",
              "  <tbody>\n",
              "    <tr>\n",
              "      <td>0</td>\n",
              "      <td>2015-10-27</td>\n",
              "      <td>Detroit Pistons</td>\n",
              "      <td>106</td>\n",
              "      <td>Atlanta Hawks</td>\n",
              "      <td>94</td>\n",
              "      <td>19187</td>\n",
              "    </tr>\n",
              "    <tr>\n",
              "      <td>1</td>\n",
              "      <td>2015-10-27</td>\n",
              "      <td>Cleveland Cavaliers</td>\n",
              "      <td>95</td>\n",
              "      <td>Chicago Bulls</td>\n",
              "      <td>97</td>\n",
              "      <td>21957</td>\n",
              "    </tr>\n",
              "    <tr>\n",
              "      <td>2</td>\n",
              "      <td>2015-10-27</td>\n",
              "      <td>New Orleans Pelicans</td>\n",
              "      <td>95</td>\n",
              "      <td>Golden State Warriors</td>\n",
              "      <td>111</td>\n",
              "      <td>19596</td>\n",
              "    </tr>\n",
              "    <tr>\n",
              "      <td>3</td>\n",
              "      <td>2015-10-28</td>\n",
              "      <td>Washington Wizards</td>\n",
              "      <td>88</td>\n",
              "      <td>Orlando Magic</td>\n",
              "      <td>87</td>\n",
              "      <td>18846</td>\n",
              "    </tr>\n",
              "    <tr>\n",
              "      <td>4</td>\n",
              "      <td>2015-10-28</td>\n",
              "      <td>Indiana Pacers</td>\n",
              "      <td>99</td>\n",
              "      <td>Toronto Raptors</td>\n",
              "      <td>106</td>\n",
              "      <td>19800</td>\n",
              "    </tr>\n",
              "  </tbody>\n",
              "</table>\n",
              "</div>"
            ],
            "text/plain": [
              "        date             away_team  away_points              home_team  \\\n",
              "0 2015-10-27       Detroit Pistons          106          Atlanta Hawks   \n",
              "1 2015-10-27   Cleveland Cavaliers           95          Chicago Bulls   \n",
              "2 2015-10-27  New Orleans Pelicans           95  Golden State Warriors   \n",
              "3 2015-10-28    Washington Wizards           88          Orlando Magic   \n",
              "4 2015-10-28        Indiana Pacers           99        Toronto Raptors   \n",
              "\n",
              "   home_points  Attend.  \n",
              "0           94    19187  \n",
              "1           97    21957  \n",
              "2          111    19596  \n",
              "3           87    18846  \n",
              "4          106    19800  "
            ]
          },
          "metadata": {
            "tags": []
          },
          "execution_count": 31
        }
      ]
    },
    {
      "cell_type": "code",
      "metadata": {
        "id": "pWgU1fvfmBEx",
        "outputId": "5fd2bd4c-2f23-49b7-b2ac-78c24d293ebf"
      },
      "source": [
        "games.tail()"
      ],
      "execution_count": null,
      "outputs": [
        {
          "output_type": "execute_result",
          "data": {
            "text/html": [
              "<div>\n",
              "<style scoped>\n",
              "    .dataframe tbody tr th:only-of-type {\n",
              "        vertical-align: middle;\n",
              "    }\n",
              "\n",
              "    .dataframe tbody tr th {\n",
              "        vertical-align: top;\n",
              "    }\n",
              "\n",
              "    .dataframe thead th {\n",
              "        text-align: right;\n",
              "    }\n",
              "</style>\n",
              "<table border=\"1\" class=\"dataframe\">\n",
              "  <thead>\n",
              "    <tr style=\"text-align: right;\">\n",
              "      <th></th>\n",
              "      <th>date</th>\n",
              "      <th>away_team</th>\n",
              "      <th>away_points</th>\n",
              "      <th>home_team</th>\n",
              "      <th>home_points</th>\n",
              "      <th>Attend.</th>\n",
              "    </tr>\n",
              "  </thead>\n",
              "  <tbody>\n",
              "    <tr>\n",
              "      <td>33</td>\n",
              "      <td>2015-10-31</td>\n",
              "      <td>New York Knicks</td>\n",
              "      <td>117</td>\n",
              "      <td>Washington Wizards</td>\n",
              "      <td>110</td>\n",
              "      <td>20356</td>\n",
              "    </tr>\n",
              "    <tr>\n",
              "      <td>34</td>\n",
              "      <td>2015-10-31</td>\n",
              "      <td>Golden State Warriors</td>\n",
              "      <td>134</td>\n",
              "      <td>New Orleans Pelicans</td>\n",
              "      <td>120</td>\n",
              "      <td>18406</td>\n",
              "    </tr>\n",
              "    <tr>\n",
              "      <td>35</td>\n",
              "      <td>2015-10-31</td>\n",
              "      <td>Brooklyn Nets</td>\n",
              "      <td>91</td>\n",
              "      <td>Memphis Grizzlies</td>\n",
              "      <td>101</td>\n",
              "      <td>16013</td>\n",
              "    </tr>\n",
              "    <tr>\n",
              "      <td>36</td>\n",
              "      <td>2015-10-31</td>\n",
              "      <td>Phoenix Suns</td>\n",
              "      <td>101</td>\n",
              "      <td>Portland Trail Blazers</td>\n",
              "      <td>90</td>\n",
              "      <td>17906</td>\n",
              "    </tr>\n",
              "    <tr>\n",
              "      <td>37</td>\n",
              "      <td>2015-10-31</td>\n",
              "      <td>Sacramento Kings</td>\n",
              "      <td>109</td>\n",
              "      <td>Los Angeles Clippers</td>\n",
              "      <td>114</td>\n",
              "      <td>19060</td>\n",
              "    </tr>\n",
              "  </tbody>\n",
              "</table>\n",
              "</div>"
            ],
            "text/plain": [
              "         date              away_team  away_points               home_team  \\\n",
              "33 2015-10-31        New York Knicks          117      Washington Wizards   \n",
              "34 2015-10-31  Golden State Warriors          134    New Orleans Pelicans   \n",
              "35 2015-10-31          Brooklyn Nets           91       Memphis Grizzlies   \n",
              "36 2015-10-31           Phoenix Suns          101  Portland Trail Blazers   \n",
              "37 2015-10-31       Sacramento Kings          109    Los Angeles Clippers   \n",
              "\n",
              "    home_points  Attend.  \n",
              "33          110    20356  \n",
              "34          120    18406  \n",
              "35          101    16013  \n",
              "36           90    17906  \n",
              "37          114    19060  "
            ]
          },
          "metadata": {
            "tags": []
          },
          "execution_count": 32
        }
      ]
    },
    {
      "cell_type": "code",
      "metadata": {
        "id": "oYr8ZQ3AmBEy",
        "outputId": "15db7449-2b39-4fc4-e616-48b624b38db9"
      },
      "source": [
        "print(games.shape)\n",
        "print(games.columns.values)"
      ],
      "execution_count": null,
      "outputs": [
        {
          "output_type": "stream",
          "text": [
            "(38, 6)\n",
            "['date' 'away_team' 'away_points' 'home_team' 'home_points' 'Attend.']\n"
          ],
          "name": "stdout"
        }
      ]
    },
    {
      "cell_type": "code",
      "metadata": {
        "id": "DYCF8eK-mBE2",
        "outputId": "e5817798-0382-4eaf-9ee3-fa47a35368e7"
      },
      "source": [
        "games.dtypes"
      ],
      "execution_count": null,
      "outputs": [
        {
          "output_type": "execute_result",
          "data": {
            "text/plain": [
              "date           datetime64[ns]\n",
              "away_team              object\n",
              "away_points             int64\n",
              "home_team              object\n",
              "home_points             int64\n",
              "Attend.                 int64\n",
              "dtype: object"
            ]
          },
          "metadata": {
            "tags": []
          },
          "execution_count": 34
        }
      ]
    },
    {
      "cell_type": "code",
      "metadata": {
        "id": "Ba9kOqcJmBE3",
        "outputId": "5dafaa74-068a-4787-dd7f-997031d9e7e9"
      },
      "source": [
        "games.describe()"
      ],
      "execution_count": null,
      "outputs": [
        {
          "output_type": "execute_result",
          "data": {
            "text/html": [
              "<div>\n",
              "<style scoped>\n",
              "    .dataframe tbody tr th:only-of-type {\n",
              "        vertical-align: middle;\n",
              "    }\n",
              "\n",
              "    .dataframe tbody tr th {\n",
              "        vertical-align: top;\n",
              "    }\n",
              "\n",
              "    .dataframe thead th {\n",
              "        text-align: right;\n",
              "    }\n",
              "</style>\n",
              "<table border=\"1\" class=\"dataframe\">\n",
              "  <thead>\n",
              "    <tr style=\"text-align: right;\">\n",
              "      <th></th>\n",
              "      <th>away_points</th>\n",
              "      <th>home_points</th>\n",
              "      <th>Attend.</th>\n",
              "    </tr>\n",
              "  </thead>\n",
              "  <tbody>\n",
              "    <tr>\n",
              "      <td>count</td>\n",
              "      <td>38.000000</td>\n",
              "      <td>38.000000</td>\n",
              "      <td>38.000000</td>\n",
              "    </tr>\n",
              "    <tr>\n",
              "      <td>mean</td>\n",
              "      <td>103.657895</td>\n",
              "      <td>101.263158</td>\n",
              "      <td>18274.763158</td>\n",
              "    </tr>\n",
              "    <tr>\n",
              "      <td>std</td>\n",
              "      <td>13.187374</td>\n",
              "      <td>13.951042</td>\n",
              "      <td>1547.135163</td>\n",
              "    </tr>\n",
              "    <tr>\n",
              "      <td>min</td>\n",
              "      <td>75.000000</td>\n",
              "      <td>71.000000</td>\n",
              "      <td>13858.000000</td>\n",
              "    </tr>\n",
              "    <tr>\n",
              "      <td>25%</td>\n",
              "      <td>94.000000</td>\n",
              "      <td>94.250000</td>\n",
              "      <td>17678.000000</td>\n",
              "    </tr>\n",
              "    <tr>\n",
              "      <td>50%</td>\n",
              "      <td>103.000000</td>\n",
              "      <td>102.000000</td>\n",
              "      <td>18323.000000</td>\n",
              "    </tr>\n",
              "    <tr>\n",
              "      <td>75%</td>\n",
              "      <td>112.000000</td>\n",
              "      <td>110.750000</td>\n",
              "      <td>19155.250000</td>\n",
              "    </tr>\n",
              "    <tr>\n",
              "      <td>max</td>\n",
              "      <td>139.000000</td>\n",
              "      <td>136.000000</td>\n",
              "      <td>21957.000000</td>\n",
              "    </tr>\n",
              "  </tbody>\n",
              "</table>\n",
              "</div>"
            ],
            "text/plain": [
              "       away_points  home_points       Attend.\n",
              "count    38.000000    38.000000     38.000000\n",
              "mean    103.657895   101.263158  18274.763158\n",
              "std      13.187374    13.951042   1547.135163\n",
              "min      75.000000    71.000000  13858.000000\n",
              "25%      94.000000    94.250000  17678.000000\n",
              "50%     103.000000   102.000000  18323.000000\n",
              "75%     112.000000   110.750000  19155.250000\n",
              "max     139.000000   136.000000  21957.000000"
            ]
          },
          "metadata": {
            "tags": []
          },
          "execution_count": 35
        }
      ]
    },
    {
      "cell_type": "code",
      "metadata": {
        "id": "NKDWfI7MmBE5",
        "outputId": "63592465-ab86-4388-8d5d-b23b33eb1389"
      },
      "source": [
        "games.describe(include=['object', 'datetime64[ns]'])"
      ],
      "execution_count": null,
      "outputs": [
        {
          "output_type": "execute_result",
          "data": {
            "text/html": [
              "<div>\n",
              "<style scoped>\n",
              "    .dataframe tbody tr th:only-of-type {\n",
              "        vertical-align: middle;\n",
              "    }\n",
              "\n",
              "    .dataframe tbody tr th {\n",
              "        vertical-align: top;\n",
              "    }\n",
              "\n",
              "    .dataframe thead th {\n",
              "        text-align: right;\n",
              "    }\n",
              "</style>\n",
              "<table border=\"1\" class=\"dataframe\">\n",
              "  <thead>\n",
              "    <tr style=\"text-align: right;\">\n",
              "      <th></th>\n",
              "      <th>date</th>\n",
              "      <th>away_team</th>\n",
              "      <th>home_team</th>\n",
              "    </tr>\n",
              "  </thead>\n",
              "  <tbody>\n",
              "    <tr>\n",
              "      <td>count</td>\n",
              "      <td>38</td>\n",
              "      <td>38</td>\n",
              "      <td>38</td>\n",
              "    </tr>\n",
              "    <tr>\n",
              "      <td>unique</td>\n",
              "      <td>5</td>\n",
              "      <td>26</td>\n",
              "      <td>26</td>\n",
              "    </tr>\n",
              "    <tr>\n",
              "      <td>top</td>\n",
              "      <td>2015-10-28 00:00:00</td>\n",
              "      <td>Utah Jazz</td>\n",
              "      <td>Memphis Grizzlies</td>\n",
              "    </tr>\n",
              "    <tr>\n",
              "      <td>freq</td>\n",
              "      <td>14</td>\n",
              "      <td>3</td>\n",
              "      <td>2</td>\n",
              "    </tr>\n",
              "    <tr>\n",
              "      <td>first</td>\n",
              "      <td>2015-10-27 00:00:00</td>\n",
              "      <td>NaN</td>\n",
              "      <td>NaN</td>\n",
              "    </tr>\n",
              "    <tr>\n",
              "      <td>last</td>\n",
              "      <td>2015-10-31 00:00:00</td>\n",
              "      <td>NaN</td>\n",
              "      <td>NaN</td>\n",
              "    </tr>\n",
              "  </tbody>\n",
              "</table>\n",
              "</div>"
            ],
            "text/plain": [
              "                       date  away_team          home_team\n",
              "count                    38         38                 38\n",
              "unique                    5         26                 26\n",
              "top     2015-10-28 00:00:00  Utah Jazz  Memphis Grizzlies\n",
              "freq                     14          3                  2\n",
              "first   2015-10-27 00:00:00        NaN                NaN\n",
              "last    2015-10-31 00:00:00        NaN                NaN"
            ]
          },
          "metadata": {
            "tags": []
          },
          "execution_count": 36
        }
      ]
    },
    {
      "cell_type": "code",
      "metadata": {
        "id": "3mGmJbZSmBE7",
        "outputId": "273c5484-3a78-45e4-a25f-8498f56e4794"
      },
      "source": [
        "games.describe(percentiles=[0.1, 0.9, 0.9995])"
      ],
      "execution_count": null,
      "outputs": [
        {
          "output_type": "execute_result",
          "data": {
            "text/html": [
              "<div>\n",
              "<style scoped>\n",
              "    .dataframe tbody tr th:only-of-type {\n",
              "        vertical-align: middle;\n",
              "    }\n",
              "\n",
              "    .dataframe tbody tr th {\n",
              "        vertical-align: top;\n",
              "    }\n",
              "\n",
              "    .dataframe thead th {\n",
              "        text-align: right;\n",
              "    }\n",
              "</style>\n",
              "<table border=\"1\" class=\"dataframe\">\n",
              "  <thead>\n",
              "    <tr style=\"text-align: right;\">\n",
              "      <th></th>\n",
              "      <th>away_points</th>\n",
              "      <th>home_points</th>\n",
              "      <th>Attend.</th>\n",
              "    </tr>\n",
              "  </thead>\n",
              "  <tbody>\n",
              "    <tr>\n",
              "      <td>count</td>\n",
              "      <td>38.000000</td>\n",
              "      <td>38.000000</td>\n",
              "      <td>38.000000</td>\n",
              "    </tr>\n",
              "    <tr>\n",
              "      <td>mean</td>\n",
              "      <td>103.657895</td>\n",
              "      <td>101.263158</td>\n",
              "      <td>18274.763158</td>\n",
              "    </tr>\n",
              "    <tr>\n",
              "      <td>std</td>\n",
              "      <td>13.187374</td>\n",
              "      <td>13.951042</td>\n",
              "      <td>1547.135163</td>\n",
              "    </tr>\n",
              "    <tr>\n",
              "      <td>min</td>\n",
              "      <td>75.000000</td>\n",
              "      <td>71.000000</td>\n",
              "      <td>13858.000000</td>\n",
              "    </tr>\n",
              "    <tr>\n",
              "      <td>10%</td>\n",
              "      <td>90.100000</td>\n",
              "      <td>82.900000</td>\n",
              "      <td>16639.100000</td>\n",
              "    </tr>\n",
              "    <tr>\n",
              "      <td>50%</td>\n",
              "      <td>103.000000</td>\n",
              "      <td>102.000000</td>\n",
              "      <td>18323.000000</td>\n",
              "    </tr>\n",
              "    <tr>\n",
              "      <td>90%</td>\n",
              "      <td>117.300000</td>\n",
              "      <td>113.300000</td>\n",
              "      <td>19803.600000</td>\n",
              "    </tr>\n",
              "    <tr>\n",
              "      <td>99.95%</td>\n",
              "      <td>138.907500</td>\n",
              "      <td>135.926000</td>\n",
              "      <td>21931.192500</td>\n",
              "    </tr>\n",
              "    <tr>\n",
              "      <td>max</td>\n",
              "      <td>139.000000</td>\n",
              "      <td>136.000000</td>\n",
              "      <td>21957.000000</td>\n",
              "    </tr>\n",
              "  </tbody>\n",
              "</table>\n",
              "</div>"
            ],
            "text/plain": [
              "        away_points  home_points       Attend.\n",
              "count     38.000000    38.000000     38.000000\n",
              "mean     103.657895   101.263158  18274.763158\n",
              "std       13.187374    13.951042   1547.135163\n",
              "min       75.000000    71.000000  13858.000000\n",
              "10%       90.100000    82.900000  16639.100000\n",
              "50%      103.000000   102.000000  18323.000000\n",
              "90%      117.300000   113.300000  19803.600000\n",
              "99.95%   138.907500   135.926000  21931.192500\n",
              "max      139.000000   136.000000  21957.000000"
            ]
          },
          "metadata": {
            "tags": []
          },
          "execution_count": 37
        }
      ]
    },
    {
      "cell_type": "code",
      "metadata": {
        "id": "abcjUKD4mBE8",
        "outputId": "2c4baa95-6402-4e00-98c2-2f37c648a6d2"
      },
      "source": [
        "games.info()"
      ],
      "execution_count": null,
      "outputs": [
        {
          "output_type": "stream",
          "text": [
            "<class 'pandas.core.frame.DataFrame'>\n",
            "Int64Index: 38 entries, 0 to 37\n",
            "Data columns (total 6 columns):\n",
            "date           38 non-null datetime64[ns]\n",
            "away_team      38 non-null object\n",
            "away_points    38 non-null int64\n",
            "home_team      38 non-null object\n",
            "home_points    38 non-null int64\n",
            "Attend.        38 non-null int64\n",
            "dtypes: datetime64[ns](1), int64(3), object(2)\n",
            "memory usage: 2.1+ KB\n"
          ],
          "name": "stdout"
        }
      ]
    },
    {
      "cell_type": "code",
      "metadata": {
        "id": "pJlvdytfmBE-",
        "outputId": "ae6c9f7f-4608-4fd4-f02e-0b0d3a54eb0d"
      },
      "source": [
        "games.sort_values(by='away_points', ascending=False).head()"
      ],
      "execution_count": null,
      "outputs": [
        {
          "output_type": "execute_result",
          "data": {
            "text/html": [
              "<div>\n",
              "<style scoped>\n",
              "    .dataframe tbody tr th:only-of-type {\n",
              "        vertical-align: middle;\n",
              "    }\n",
              "\n",
              "    .dataframe tbody tr th {\n",
              "        vertical-align: top;\n",
              "    }\n",
              "\n",
              "    .dataframe thead th {\n",
              "        text-align: right;\n",
              "    }\n",
              "</style>\n",
              "<table border=\"1\" class=\"dataframe\">\n",
              "  <thead>\n",
              "    <tr style=\"text-align: right;\">\n",
              "      <th></th>\n",
              "      <th>date</th>\n",
              "      <th>away_team</th>\n",
              "      <th>away_points</th>\n",
              "      <th>home_team</th>\n",
              "      <th>home_points</th>\n",
              "      <th>Attend.</th>\n",
              "    </tr>\n",
              "  </thead>\n",
              "  <tbody>\n",
              "    <tr>\n",
              "      <td>21</td>\n",
              "      <td>2015-10-30</td>\n",
              "      <td>Oklahoma City Thunder</td>\n",
              "      <td>139</td>\n",
              "      <td>Orlando Magic</td>\n",
              "      <td>136</td>\n",
              "      <td>18846</td>\n",
              "    </tr>\n",
              "    <tr>\n",
              "      <td>34</td>\n",
              "      <td>2015-10-31</td>\n",
              "      <td>Golden State Warriors</td>\n",
              "      <td>134</td>\n",
              "      <td>New Orleans Pelicans</td>\n",
              "      <td>120</td>\n",
              "      <td>18406</td>\n",
              "    </tr>\n",
              "    <tr>\n",
              "      <td>11</td>\n",
              "      <td>2015-10-28</td>\n",
              "      <td>New York Knicks</td>\n",
              "      <td>122</td>\n",
              "      <td>Milwaukee Bucks</td>\n",
              "      <td>97</td>\n",
              "      <td>18717</td>\n",
              "    </tr>\n",
              "    <tr>\n",
              "      <td>25</td>\n",
              "      <td>2015-10-30</td>\n",
              "      <td>Washington Wizards</td>\n",
              "      <td>118</td>\n",
              "      <td>Milwaukee Bucks</td>\n",
              "      <td>113</td>\n",
              "      <td>13858</td>\n",
              "    </tr>\n",
              "    <tr>\n",
              "      <td>33</td>\n",
              "      <td>2015-10-31</td>\n",
              "      <td>New York Knicks</td>\n",
              "      <td>117</td>\n",
              "      <td>Washington Wizards</td>\n",
              "      <td>110</td>\n",
              "      <td>20356</td>\n",
              "    </tr>\n",
              "  </tbody>\n",
              "</table>\n",
              "</div>"
            ],
            "text/plain": [
              "         date              away_team  away_points             home_team  \\\n",
              "21 2015-10-30  Oklahoma City Thunder          139         Orlando Magic   \n",
              "34 2015-10-31  Golden State Warriors          134  New Orleans Pelicans   \n",
              "11 2015-10-28        New York Knicks          122       Milwaukee Bucks   \n",
              "25 2015-10-30     Washington Wizards          118       Milwaukee Bucks   \n",
              "33 2015-10-31        New York Knicks          117    Washington Wizards   \n",
              "\n",
              "    home_points  Attend.  \n",
              "21          136    18846  \n",
              "34          120    18406  \n",
              "11           97    18717  \n",
              "25          113    13858  \n",
              "33          110    20356  "
            ]
          },
          "metadata": {
            "tags": []
          },
          "execution_count": 39
        }
      ]
    },
    {
      "cell_type": "code",
      "metadata": {
        "id": "ZCYM0qZPmBFA",
        "outputId": "323550fc-1994-4bb5-9a92-8badfe8d2db5"
      },
      "source": [
        "games.sort_values(by=['away_points', 'home_points'], ascending=[True, False]).head()"
      ],
      "execution_count": null,
      "outputs": [
        {
          "output_type": "execute_result",
          "data": {
            "text/html": [
              "<div>\n",
              "<style scoped>\n",
              "    .dataframe tbody tr th:only-of-type {\n",
              "        vertical-align: middle;\n",
              "    }\n",
              "\n",
              "    .dataframe tbody tr th {\n",
              "        vertical-align: top;\n",
              "    }\n",
              "\n",
              "    .dataframe thead th {\n",
              "        text-align: right;\n",
              "    }\n",
              "</style>\n",
              "<table border=\"1\" class=\"dataframe\">\n",
              "  <thead>\n",
              "    <tr style=\"text-align: right;\">\n",
              "      <th></th>\n",
              "      <th>date</th>\n",
              "      <th>away_team</th>\n",
              "      <th>away_points</th>\n",
              "      <th>home_team</th>\n",
              "      <th>home_points</th>\n",
              "      <th>Attend.</th>\n",
              "    </tr>\n",
              "  </thead>\n",
              "  <tbody>\n",
              "    <tr>\n",
              "      <td>27</td>\n",
              "      <td>2015-10-30</td>\n",
              "      <td>Brooklyn Nets</td>\n",
              "      <td>75</td>\n",
              "      <td>San Antonio Spurs</td>\n",
              "      <td>102</td>\n",
              "      <td>18418</td>\n",
              "    </tr>\n",
              "    <tr>\n",
              "      <td>8</td>\n",
              "      <td>2015-10-28</td>\n",
              "      <td>Utah Jazz</td>\n",
              "      <td>87</td>\n",
              "      <td>Detroit Pistons</td>\n",
              "      <td>92</td>\n",
              "      <td>18434</td>\n",
              "    </tr>\n",
              "    <tr>\n",
              "      <td>19</td>\n",
              "      <td>2015-10-29</td>\n",
              "      <td>Dallas Mavericks</td>\n",
              "      <td>88</td>\n",
              "      <td>Los Angeles Clippers</td>\n",
              "      <td>104</td>\n",
              "      <td>19218</td>\n",
              "    </tr>\n",
              "    <tr>\n",
              "      <td>3</td>\n",
              "      <td>2015-10-28</td>\n",
              "      <td>Washington Wizards</td>\n",
              "      <td>88</td>\n",
              "      <td>Orlando Magic</td>\n",
              "      <td>87</td>\n",
              "      <td>18846</td>\n",
              "    </tr>\n",
              "    <tr>\n",
              "      <td>35</td>\n",
              "      <td>2015-10-31</td>\n",
              "      <td>Brooklyn Nets</td>\n",
              "      <td>91</td>\n",
              "      <td>Memphis Grizzlies</td>\n",
              "      <td>101</td>\n",
              "      <td>16013</td>\n",
              "    </tr>\n",
              "  </tbody>\n",
              "</table>\n",
              "</div>"
            ],
            "text/plain": [
              "         date           away_team  away_points             home_team  \\\n",
              "27 2015-10-30       Brooklyn Nets           75     San Antonio Spurs   \n",
              "8  2015-10-28           Utah Jazz           87       Detroit Pistons   \n",
              "19 2015-10-29    Dallas Mavericks           88  Los Angeles Clippers   \n",
              "3  2015-10-28  Washington Wizards           88         Orlando Magic   \n",
              "35 2015-10-31       Brooklyn Nets           91     Memphis Grizzlies   \n",
              "\n",
              "    home_points  Attend.  \n",
              "27          102    18418  \n",
              "8            92    18434  \n",
              "19          104    19218  \n",
              "3            87    18846  \n",
              "35          101    16013  "
            ]
          },
          "metadata": {
            "tags": []
          },
          "execution_count": 40
        }
      ]
    },
    {
      "cell_type": "markdown",
      "metadata": {
        "id": "mARVauJYmBFC"
      },
      "source": [
        "**Какой средний балл у команд, которые играли дома?**"
      ]
    },
    {
      "cell_type": "code",
      "metadata": {
        "id": "CCfTsVAKmBFD",
        "outputId": "02cf7fe9-e363-4800-ff59-43b98d11f6b0"
      },
      "source": [
        "games['home_points'].mean()"
      ],
      "execution_count": null,
      "outputs": [
        {
          "output_type": "execute_result",
          "data": {
            "text/plain": [
              "101.26315789473684"
            ]
          },
          "metadata": {
            "tags": []
          },
          "execution_count": 41
        }
      ]
    },
    {
      "cell_type": "markdown",
      "metadata": {
        "id": "-zXMz1a7mBFE"
      },
      "source": [
        "**Какой максимальный балл у команд, которые играли на выезде 28 октября 2015?**"
      ]
    },
    {
      "cell_type": "code",
      "metadata": {
        "id": "5nfwcj6JmBFF",
        "outputId": "1437449d-ab19-4d5f-9f25-5e5c0664ec6c"
      },
      "source": [
        "games[games['date'] == '2015-10-28'].head()"
      ],
      "execution_count": null,
      "outputs": [
        {
          "output_type": "execute_result",
          "data": {
            "text/html": [
              "<div>\n",
              "<style scoped>\n",
              "    .dataframe tbody tr th:only-of-type {\n",
              "        vertical-align: middle;\n",
              "    }\n",
              "\n",
              "    .dataframe tbody tr th {\n",
              "        vertical-align: top;\n",
              "    }\n",
              "\n",
              "    .dataframe thead th {\n",
              "        text-align: right;\n",
              "    }\n",
              "</style>\n",
              "<table border=\"1\" class=\"dataframe\">\n",
              "  <thead>\n",
              "    <tr style=\"text-align: right;\">\n",
              "      <th></th>\n",
              "      <th>date</th>\n",
              "      <th>away_team</th>\n",
              "      <th>away_points</th>\n",
              "      <th>home_team</th>\n",
              "      <th>home_points</th>\n",
              "      <th>Attend.</th>\n",
              "    </tr>\n",
              "  </thead>\n",
              "  <tbody>\n",
              "    <tr>\n",
              "      <td>3</td>\n",
              "      <td>2015-10-28</td>\n",
              "      <td>Washington Wizards</td>\n",
              "      <td>88</td>\n",
              "      <td>Orlando Magic</td>\n",
              "      <td>87</td>\n",
              "      <td>18846</td>\n",
              "    </tr>\n",
              "    <tr>\n",
              "      <td>4</td>\n",
              "      <td>2015-10-28</td>\n",
              "      <td>Indiana Pacers</td>\n",
              "      <td>99</td>\n",
              "      <td>Toronto Raptors</td>\n",
              "      <td>106</td>\n",
              "      <td>19800</td>\n",
              "    </tr>\n",
              "    <tr>\n",
              "      <td>5</td>\n",
              "      <td>2015-10-28</td>\n",
              "      <td>Charlotte Hornets</td>\n",
              "      <td>94</td>\n",
              "      <td>Miami Heat</td>\n",
              "      <td>104</td>\n",
              "      <td>19724</td>\n",
              "    </tr>\n",
              "    <tr>\n",
              "      <td>6</td>\n",
              "      <td>2015-10-28</td>\n",
              "      <td>Chicago Bulls</td>\n",
              "      <td>115</td>\n",
              "      <td>Brooklyn Nets</td>\n",
              "      <td>100</td>\n",
              "      <td>17732</td>\n",
              "    </tr>\n",
              "    <tr>\n",
              "      <td>7</td>\n",
              "      <td>2015-10-28</td>\n",
              "      <td>Philadelphia 76ers</td>\n",
              "      <td>95</td>\n",
              "      <td>Boston Celtics</td>\n",
              "      <td>112</td>\n",
              "      <td>18624</td>\n",
              "    </tr>\n",
              "  </tbody>\n",
              "</table>\n",
              "</div>"
            ],
            "text/plain": [
              "        date           away_team  away_points        home_team  home_points  \\\n",
              "3 2015-10-28  Washington Wizards           88    Orlando Magic           87   \n",
              "4 2015-10-28      Indiana Pacers           99  Toronto Raptors          106   \n",
              "5 2015-10-28   Charlotte Hornets           94       Miami Heat          104   \n",
              "6 2015-10-28       Chicago Bulls          115    Brooklyn Nets          100   \n",
              "7 2015-10-28  Philadelphia 76ers           95   Boston Celtics          112   \n",
              "\n",
              "   Attend.  \n",
              "3    18846  \n",
              "4    19800  \n",
              "5    19724  \n",
              "6    17732  \n",
              "7    18624  "
            ]
          },
          "metadata": {
            "tags": []
          },
          "execution_count": 42
        }
      ]
    },
    {
      "cell_type": "code",
      "metadata": {
        "id": "OLBBGwYHmBFH",
        "outputId": "31cb6fdc-0c29-4d89-aff8-3c83006437ee"
      },
      "source": [
        "games.loc[games['date'] == '2015-10-28', 'away_points'].max()"
      ],
      "execution_count": null,
      "outputs": [
        {
          "output_type": "execute_result",
          "data": {
            "text/plain": [
              "122"
            ]
          },
          "metadata": {
            "tags": []
          },
          "execution_count": 43
        }
      ]
    },
    {
      "cell_type": "code",
      "metadata": {
        "id": "dZNXHuJfmBFI",
        "outputId": "9e5adc07-2511-4ce1-ef54-d197a31f76c4"
      },
      "source": [
        "games.loc[games['date'] == '2015-10-28', 'away_points'].max() - \\\n",
        "games.loc[games['date'] == '2015-10-28', 'home_points'].max()"
      ],
      "execution_count": null,
      "outputs": [
        {
          "output_type": "execute_result",
          "data": {
            "text/plain": [
              "10"
            ]
          },
          "metadata": {
            "tags": []
          },
          "execution_count": 44
        }
      ]
    },
    {
      "cell_type": "markdown",
      "metadata": {
        "id": "ty3cPPM-mBFL"
      },
      "source": [
        "**Какой минимальный балл у команд, которые играли дома 30 октября 2015 года, и на матчах которых было более 18500 зрителей?**"
      ]
    },
    {
      "cell_type": "code",
      "metadata": {
        "id": "yF1vovYnmBFL",
        "outputId": "565ba8f5-dc3a-43d9-a315-3375671f17d1"
      },
      "source": [
        "games.loc[(games['date'] == '2015-10-30') & (games['Attend.'] > 18500), 'home_points'].min()"
      ],
      "execution_count": null,
      "outputs": [
        {
          "output_type": "execute_result",
          "data": {
            "text/plain": [
              "102"
            ]
          },
          "metadata": {
            "tags": []
          },
          "execution_count": 45
        }
      ]
    },
    {
      "cell_type": "code",
      "metadata": {
        "id": "1cT_qA9PmBFN",
        "outputId": "126389a2-3926-46ee-c6b0-b92127dd6d2a"
      },
      "source": [
        "games[['away_points', 'home_points', 'Attend.']].apply(np.mean)"
      ],
      "execution_count": null,
      "outputs": [
        {
          "output_type": "execute_result",
          "data": {
            "text/plain": [
              "away_points      103.657895\n",
              "home_points      101.263158\n",
              "Attend.        18274.763158\n",
              "dtype: float64"
            ]
          },
          "metadata": {
            "tags": []
          },
          "execution_count": 46
        }
      ]
    },
    {
      "cell_type": "code",
      "metadata": {
        "id": "McNxc2w-mBFO",
        "outputId": "885138c7-495a-4726-8105-13b1d9b3dd39"
      },
      "source": [
        "col = games['away_team']\n",
        "col.str.split().head()"
      ],
      "execution_count": null,
      "outputs": [
        {
          "output_type": "execute_result",
          "data": {
            "text/plain": [
              "0          [Detroit, Pistons]\n",
              "1      [Cleveland, Cavaliers]\n",
              "2    [New, Orleans, Pelicans]\n",
              "3       [Washington, Wizards]\n",
              "4           [Indiana, Pacers]\n",
              "Name: away_team, dtype: object"
            ]
          },
          "metadata": {
            "tags": []
          },
          "execution_count": 47
        }
      ]
    },
    {
      "cell_type": "code",
      "metadata": {
        "id": "pygl9rOxmBFQ",
        "outputId": "66036f83-3cc2-43b1-df77-77d0f6b3127a"
      },
      "source": [
        "'FDSJFHDSJK DSFJKDSH KJGHJFDG'.split()[2]"
      ],
      "execution_count": null,
      "outputs": [
        {
          "output_type": "execute_result",
          "data": {
            "text/plain": [
              "'KJGHJFDG'"
            ]
          },
          "metadata": {
            "tags": []
          },
          "execution_count": 48
        }
      ]
    },
    {
      "cell_type": "code",
      "metadata": {
        "id": "2O6C7Mz_mBFS",
        "outputId": "a7642839-08a5-4220-e16a-f15af3ff4449"
      },
      "source": [
        "games.groupby('date', as_index=False).agg({'home_points': 'mean', 'away_points': 'mean',\n",
        "                                           'home_team': 'nunique', 'away_team': 'nunique'})"
      ],
      "execution_count": null,
      "outputs": [
        {
          "output_type": "execute_result",
          "data": {
            "text/html": [
              "<div>\n",
              "<style scoped>\n",
              "    .dataframe tbody tr th:only-of-type {\n",
              "        vertical-align: middle;\n",
              "    }\n",
              "\n",
              "    .dataframe tbody tr th {\n",
              "        vertical-align: top;\n",
              "    }\n",
              "\n",
              "    .dataframe thead th {\n",
              "        text-align: right;\n",
              "    }\n",
              "</style>\n",
              "<table border=\"1\" class=\"dataframe\">\n",
              "  <thead>\n",
              "    <tr style=\"text-align: right;\">\n",
              "      <th></th>\n",
              "      <th>date</th>\n",
              "      <th>home_points</th>\n",
              "      <th>away_points</th>\n",
              "      <th>home_team</th>\n",
              "      <th>away_team</th>\n",
              "    </tr>\n",
              "  </thead>\n",
              "  <tbody>\n",
              "    <tr>\n",
              "      <td>0</td>\n",
              "      <td>2015-10-27</td>\n",
              "      <td>100.666667</td>\n",
              "      <td>98.666667</td>\n",
              "      <td>3</td>\n",
              "      <td>3</td>\n",
              "    </tr>\n",
              "    <tr>\n",
              "      <td>1</td>\n",
              "      <td>2015-10-28</td>\n",
              "      <td>99.500000</td>\n",
              "      <td>103.214286</td>\n",
              "      <td>14</td>\n",
              "      <td>14</td>\n",
              "    </tr>\n",
              "    <tr>\n",
              "      <td>2</td>\n",
              "      <td>2015-10-29</td>\n",
              "      <td>102.666667</td>\n",
              "      <td>104.000000</td>\n",
              "      <td>3</td>\n",
              "      <td>3</td>\n",
              "    </tr>\n",
              "    <tr>\n",
              "      <td>3</td>\n",
              "      <td>2015-10-30</td>\n",
              "      <td>102.833333</td>\n",
              "      <td>103.083333</td>\n",
              "      <td>12</td>\n",
              "      <td>12</td>\n",
              "    </tr>\n",
              "    <tr>\n",
              "      <td>4</td>\n",
              "      <td>2015-10-31</td>\n",
              "      <td>101.833333</td>\n",
              "      <td>108.166667</td>\n",
              "      <td>6</td>\n",
              "      <td>6</td>\n",
              "    </tr>\n",
              "  </tbody>\n",
              "</table>\n",
              "</div>"
            ],
            "text/plain": [
              "        date  home_points  away_points  home_team  away_team\n",
              "0 2015-10-27   100.666667    98.666667          3          3\n",
              "1 2015-10-28    99.500000   103.214286         14         14\n",
              "2 2015-10-29   102.666667   104.000000          3          3\n",
              "3 2015-10-30   102.833333   103.083333         12         12\n",
              "4 2015-10-31   101.833333   108.166667          6          6"
            ]
          },
          "metadata": {
            "tags": []
          },
          "execution_count": 49
        }
      ]
    },
    {
      "cell_type": "code",
      "metadata": {
        "scrolled": true,
        "id": "ivRRiEA-mBFU",
        "outputId": "fc4ca70d-25ea-4453-d1b2-8c89cf6f9625"
      },
      "source": [
        "g = games.groupby('date')\n",
        "for dt, sub_df in g:\n",
        "    print(f\"{dt}: {sub_df['home_points'].apply(lambda x: x % 10).mean()}\")"
      ],
      "execution_count": null,
      "outputs": [
        {
          "output_type": "stream",
          "text": [
            "2015-10-27 00:00:00: 4.0\n",
            "2015-10-28 00:00:00: 3.7857142857142856\n",
            "2015-10-29 00:00:00: 2.6666666666666665\n",
            "2015-10-30 00:00:00: 3.6666666666666665\n",
            "2015-10-31 00:00:00: 1.8333333333333333\n"
          ],
          "name": "stdout"
        }
      ]
    },
    {
      "cell_type": "code",
      "metadata": {
        "id": "qTQL7iAvmBFW",
        "outputId": "975ee62d-b4f5-4d5b-888b-2b9b70f636be"
      },
      "source": [
        "d1 = g.get_group('2015-10-29')\n",
        "d1"
      ],
      "execution_count": null,
      "outputs": [
        {
          "output_type": "execute_result",
          "data": {
            "text/html": [
              "<div>\n",
              "<style scoped>\n",
              "    .dataframe tbody tr th:only-of-type {\n",
              "        vertical-align: middle;\n",
              "    }\n",
              "\n",
              "    .dataframe tbody tr th {\n",
              "        vertical-align: top;\n",
              "    }\n",
              "\n",
              "    .dataframe thead th {\n",
              "        text-align: right;\n",
              "    }\n",
              "</style>\n",
              "<table border=\"1\" class=\"dataframe\">\n",
              "  <thead>\n",
              "    <tr style=\"text-align: right;\">\n",
              "      <th></th>\n",
              "      <th>date</th>\n",
              "      <th>away_team</th>\n",
              "      <th>away_points</th>\n",
              "      <th>home_team</th>\n",
              "      <th>home_points</th>\n",
              "      <th>Attend.</th>\n",
              "    </tr>\n",
              "  </thead>\n",
              "  <tbody>\n",
              "    <tr>\n",
              "      <td>17</td>\n",
              "      <td>2015-10-29</td>\n",
              "      <td>Memphis Grizzlies</td>\n",
              "      <td>112</td>\n",
              "      <td>Indiana Pacers</td>\n",
              "      <td>103</td>\n",
              "      <td>18165</td>\n",
              "    </tr>\n",
              "    <tr>\n",
              "      <td>18</td>\n",
              "      <td>2015-10-29</td>\n",
              "      <td>Atlanta Hawks</td>\n",
              "      <td>112</td>\n",
              "      <td>New York Knicks</td>\n",
              "      <td>101</td>\n",
              "      <td>19812</td>\n",
              "    </tr>\n",
              "    <tr>\n",
              "      <td>19</td>\n",
              "      <td>2015-10-29</td>\n",
              "      <td>Dallas Mavericks</td>\n",
              "      <td>88</td>\n",
              "      <td>Los Angeles Clippers</td>\n",
              "      <td>104</td>\n",
              "      <td>19218</td>\n",
              "    </tr>\n",
              "  </tbody>\n",
              "</table>\n",
              "</div>"
            ],
            "text/plain": [
              "         date          away_team  away_points             home_team  \\\n",
              "17 2015-10-29  Memphis Grizzlies          112        Indiana Pacers   \n",
              "18 2015-10-29      Atlanta Hawks          112       New York Knicks   \n",
              "19 2015-10-29   Dallas Mavericks           88  Los Angeles Clippers   \n",
              "\n",
              "    home_points  Attend.  \n",
              "17          103    18165  \n",
              "18          101    19812  \n",
              "19          104    19218  "
            ]
          },
          "metadata": {
            "tags": []
          },
          "execution_count": 51
        }
      ]
    },
    {
      "cell_type": "code",
      "metadata": {
        "id": "h9RVha5TmBFX",
        "outputId": "d0e05785-8799-48cc-c421-0d88d1e8c680"
      },
      "source": [
        "games['date'].value_counts(sort=False)"
      ],
      "execution_count": null,
      "outputs": [
        {
          "output_type": "execute_result",
          "data": {
            "text/plain": [
              "2015-10-27     3\n",
              "2015-10-28    14\n",
              "2015-10-29     3\n",
              "2015-10-30    12\n",
              "2015-10-31     6\n",
              "Name: date, dtype: int64"
            ]
          },
          "metadata": {
            "tags": []
          },
          "execution_count": 52
        }
      ]
    },
    {
      "cell_type": "code",
      "metadata": {
        "id": "EygR6zJymBFZ",
        "outputId": "14295ad7-f169-4b8d-ceed-4b7bfd3fd115"
      },
      "source": [
        "games[['home_points', 'away_points', 'Attend.']].corr()"
      ],
      "execution_count": null,
      "outputs": [
        {
          "output_type": "execute_result",
          "data": {
            "text/html": [
              "<div>\n",
              "<style scoped>\n",
              "    .dataframe tbody tr th:only-of-type {\n",
              "        vertical-align: middle;\n",
              "    }\n",
              "\n",
              "    .dataframe tbody tr th {\n",
              "        vertical-align: top;\n",
              "    }\n",
              "\n",
              "    .dataframe thead th {\n",
              "        text-align: right;\n",
              "    }\n",
              "</style>\n",
              "<table border=\"1\" class=\"dataframe\">\n",
              "  <thead>\n",
              "    <tr style=\"text-align: right;\">\n",
              "      <th></th>\n",
              "      <th>home_points</th>\n",
              "      <th>away_points</th>\n",
              "      <th>Attend.</th>\n",
              "    </tr>\n",
              "  </thead>\n",
              "  <tbody>\n",
              "    <tr>\n",
              "      <td>home_points</td>\n",
              "      <td>1.000000</td>\n",
              "      <td>0.416534</td>\n",
              "      <td>0.191471</td>\n",
              "    </tr>\n",
              "    <tr>\n",
              "      <td>away_points</td>\n",
              "      <td>0.416534</td>\n",
              "      <td>1.000000</td>\n",
              "      <td>-0.065669</td>\n",
              "    </tr>\n",
              "    <tr>\n",
              "      <td>Attend.</td>\n",
              "      <td>0.191471</td>\n",
              "      <td>-0.065669</td>\n",
              "      <td>1.000000</td>\n",
              "    </tr>\n",
              "  </tbody>\n",
              "</table>\n",
              "</div>"
            ],
            "text/plain": [
              "             home_points  away_points   Attend.\n",
              "home_points     1.000000     0.416534  0.191471\n",
              "away_points     0.416534     1.000000 -0.065669\n",
              "Attend.         0.191471    -0.065669  1.000000"
            ]
          },
          "metadata": {
            "tags": []
          },
          "execution_count": 53
        }
      ]
    },
    {
      "cell_type": "code",
      "metadata": {
        "id": "uRysPKkwmBFa",
        "outputId": "efe10c79-05f9-4e0a-8c11-68bd19b08a52"
      },
      "source": [
        "games[['home_points', 'away_points', 'Attend.']].cov()"
      ],
      "execution_count": null,
      "outputs": [
        {
          "output_type": "execute_result",
          "data": {
            "text/html": [
              "<div>\n",
              "<style scoped>\n",
              "    .dataframe tbody tr th:only-of-type {\n",
              "        vertical-align: middle;\n",
              "    }\n",
              "\n",
              "    .dataframe tbody tr th {\n",
              "        vertical-align: top;\n",
              "    }\n",
              "\n",
              "    .dataframe thead th {\n",
              "        text-align: right;\n",
              "    }\n",
              "</style>\n",
              "<table border=\"1\" class=\"dataframe\">\n",
              "  <thead>\n",
              "    <tr style=\"text-align: right;\">\n",
              "      <th></th>\n",
              "      <th>home_points</th>\n",
              "      <th>away_points</th>\n",
              "      <th>Attend.</th>\n",
              "    </tr>\n",
              "  </thead>\n",
              "  <tbody>\n",
              "    <tr>\n",
              "      <td>home_points</td>\n",
              "      <td>194.631579</td>\n",
              "      <td>76.633001</td>\n",
              "      <td>4.132740e+03</td>\n",
              "    </tr>\n",
              "    <tr>\n",
              "      <td>away_points</td>\n",
              "      <td>76.633001</td>\n",
              "      <td>173.906828</td>\n",
              "      <td>-1.339813e+03</td>\n",
              "    </tr>\n",
              "    <tr>\n",
              "      <td>Attend.</td>\n",
              "      <td>4132.739687</td>\n",
              "      <td>-1339.812945</td>\n",
              "      <td>2.393627e+06</td>\n",
              "    </tr>\n",
              "  </tbody>\n",
              "</table>\n",
              "</div>"
            ],
            "text/plain": [
              "             home_points  away_points       Attend.\n",
              "home_points   194.631579    76.633001  4.132740e+03\n",
              "away_points    76.633001   173.906828 -1.339813e+03\n",
              "Attend.      4132.739687 -1339.812945  2.393627e+06"
            ]
          },
          "metadata": {
            "tags": []
          },
          "execution_count": 54
        }
      ]
    },
    {
      "cell_type": "code",
      "metadata": {
        "id": "_sQMxm5nmBFc",
        "outputId": "37d8faea-248f-42cd-96b4-ca560b1d5a67"
      },
      "source": [
        "games['away_remainder'] = games['away_points'] % 5\n",
        "games['home_remainder'] = games['home_points'] % 5\n",
        "pd.crosstab(games['date'], games['away_remainder'])"
      ],
      "execution_count": null,
      "outputs": [
        {
          "output_type": "execute_result",
          "data": {
            "text/html": [
              "<div>\n",
              "<style scoped>\n",
              "    .dataframe tbody tr th:only-of-type {\n",
              "        vertical-align: middle;\n",
              "    }\n",
              "\n",
              "    .dataframe tbody tr th {\n",
              "        vertical-align: top;\n",
              "    }\n",
              "\n",
              "    .dataframe thead th {\n",
              "        text-align: right;\n",
              "    }\n",
              "</style>\n",
              "<table border=\"1\" class=\"dataframe\">\n",
              "  <thead>\n",
              "    <tr style=\"text-align: right;\">\n",
              "      <th>away_remainder</th>\n",
              "      <th>0</th>\n",
              "      <th>1</th>\n",
              "      <th>2</th>\n",
              "      <th>3</th>\n",
              "      <th>4</th>\n",
              "    </tr>\n",
              "    <tr>\n",
              "      <th>date</th>\n",
              "      <th></th>\n",
              "      <th></th>\n",
              "      <th></th>\n",
              "      <th></th>\n",
              "      <th></th>\n",
              "    </tr>\n",
              "  </thead>\n",
              "  <tbody>\n",
              "    <tr>\n",
              "      <td>2015-10-27</td>\n",
              "      <td>2</td>\n",
              "      <td>1</td>\n",
              "      <td>0</td>\n",
              "      <td>0</td>\n",
              "      <td>0</td>\n",
              "    </tr>\n",
              "    <tr>\n",
              "      <td>2015-10-28</td>\n",
              "      <td>3</td>\n",
              "      <td>4</td>\n",
              "      <td>3</td>\n",
              "      <td>1</td>\n",
              "      <td>3</td>\n",
              "    </tr>\n",
              "    <tr>\n",
              "      <td>2015-10-29</td>\n",
              "      <td>0</td>\n",
              "      <td>0</td>\n",
              "      <td>2</td>\n",
              "      <td>1</td>\n",
              "      <td>0</td>\n",
              "    </tr>\n",
              "    <tr>\n",
              "      <td>2015-10-30</td>\n",
              "      <td>2</td>\n",
              "      <td>0</td>\n",
              "      <td>3</td>\n",
              "      <td>2</td>\n",
              "      <td>5</td>\n",
              "    </tr>\n",
              "    <tr>\n",
              "      <td>2015-10-31</td>\n",
              "      <td>0</td>\n",
              "      <td>2</td>\n",
              "      <td>2</td>\n",
              "      <td>0</td>\n",
              "      <td>2</td>\n",
              "    </tr>\n",
              "  </tbody>\n",
              "</table>\n",
              "</div>"
            ],
            "text/plain": [
              "away_remainder  0  1  2  3  4\n",
              "date                         \n",
              "2015-10-27      2  1  0  0  0\n",
              "2015-10-28      3  4  3  1  3\n",
              "2015-10-29      0  0  2  1  0\n",
              "2015-10-30      2  0  3  2  5\n",
              "2015-10-31      0  2  2  0  2"
            ]
          },
          "metadata": {
            "tags": []
          },
          "execution_count": 55
        }
      ]
    },
    {
      "cell_type": "code",
      "metadata": {
        "id": "w4vCOCcAmBFd",
        "outputId": "5569479f-78b1-42d7-d726-6ec754a897ef"
      },
      "source": [
        "games.pivot_table(values='Attend.', index=['away_remainder', 'home_remainder'])"
      ],
      "execution_count": null,
      "outputs": [
        {
          "output_type": "execute_result",
          "data": {
            "text/html": [
              "<div>\n",
              "<style scoped>\n",
              "    .dataframe tbody tr th:only-of-type {\n",
              "        vertical-align: middle;\n",
              "    }\n",
              "\n",
              "    .dataframe tbody tr th {\n",
              "        vertical-align: top;\n",
              "    }\n",
              "\n",
              "    .dataframe thead th {\n",
              "        text-align: right;\n",
              "    }\n",
              "</style>\n",
              "<table border=\"1\" class=\"dataframe\">\n",
              "  <thead>\n",
              "    <tr style=\"text-align: right;\">\n",
              "      <th></th>\n",
              "      <th></th>\n",
              "      <th>Attend.</th>\n",
              "    </tr>\n",
              "    <tr>\n",
              "      <th>away_remainder</th>\n",
              "      <th>home_remainder</th>\n",
              "      <th></th>\n",
              "    </tr>\n",
              "  </thead>\n",
              "  <tbody>\n",
              "    <tr>\n",
              "      <td rowspan=\"4\" valign=\"top\">0</td>\n",
              "      <td>0</td>\n",
              "      <td>17986.000000</td>\n",
              "    </tr>\n",
              "    <tr>\n",
              "      <td>1</td>\n",
              "      <td>19596.000000</td>\n",
              "    </tr>\n",
              "    <tr>\n",
              "      <td>2</td>\n",
              "      <td>19666.333333</td>\n",
              "    </tr>\n",
              "    <tr>\n",
              "      <td>3</td>\n",
              "      <td>17660.000000</td>\n",
              "    </tr>\n",
              "    <tr>\n",
              "      <td rowspan=\"4\" valign=\"top\">1</td>\n",
              "      <td>0</td>\n",
              "      <td>17980.500000</td>\n",
              "    </tr>\n",
              "    <tr>\n",
              "      <td>1</td>\n",
              "      <td>17066.000000</td>\n",
              "    </tr>\n",
              "    <tr>\n",
              "      <td>2</td>\n",
              "      <td>18203.000000</td>\n",
              "    </tr>\n",
              "    <tr>\n",
              "      <td>4</td>\n",
              "      <td>18322.500000</td>\n",
              "    </tr>\n",
              "    <tr>\n",
              "      <td rowspan=\"4\" valign=\"top\">2</td>\n",
              "      <td>0</td>\n",
              "      <td>19205.500000</td>\n",
              "    </tr>\n",
              "    <tr>\n",
              "      <td>1</td>\n",
              "      <td>17740.333333</td>\n",
              "    </tr>\n",
              "    <tr>\n",
              "      <td>2</td>\n",
              "      <td>18963.750000</td>\n",
              "    </tr>\n",
              "    <tr>\n",
              "      <td>3</td>\n",
              "      <td>18165.000000</td>\n",
              "    </tr>\n",
              "    <tr>\n",
              "      <td rowspan=\"3\" valign=\"top\">3</td>\n",
              "      <td>2</td>\n",
              "      <td>18846.000000</td>\n",
              "    </tr>\n",
              "    <tr>\n",
              "      <td>3</td>\n",
              "      <td>15378.000000</td>\n",
              "    </tr>\n",
              "    <tr>\n",
              "      <td>4</td>\n",
              "      <td>19218.000000</td>\n",
              "    </tr>\n",
              "    <tr>\n",
              "      <td rowspan=\"5\" valign=\"top\">4</td>\n",
              "      <td>0</td>\n",
              "      <td>18406.000000</td>\n",
              "    </tr>\n",
              "    <tr>\n",
              "      <td>1</td>\n",
              "      <td>18589.333333</td>\n",
              "    </tr>\n",
              "    <tr>\n",
              "      <td>2</td>\n",
              "      <td>17936.000000</td>\n",
              "    </tr>\n",
              "    <tr>\n",
              "      <td>3</td>\n",
              "      <td>16035.000000</td>\n",
              "    </tr>\n",
              "    <tr>\n",
              "      <td>4</td>\n",
              "      <td>19392.000000</td>\n",
              "    </tr>\n",
              "  </tbody>\n",
              "</table>\n",
              "</div>"
            ],
            "text/plain": [
              "                                    Attend.\n",
              "away_remainder home_remainder              \n",
              "0              0               17986.000000\n",
              "               1               19596.000000\n",
              "               2               19666.333333\n",
              "               3               17660.000000\n",
              "1              0               17980.500000\n",
              "               1               17066.000000\n",
              "               2               18203.000000\n",
              "               4               18322.500000\n",
              "2              0               19205.500000\n",
              "               1               17740.333333\n",
              "               2               18963.750000\n",
              "               3               18165.000000\n",
              "3              2               18846.000000\n",
              "               3               15378.000000\n",
              "               4               19218.000000\n",
              "4              0               18406.000000\n",
              "               1               18589.333333\n",
              "               2               17936.000000\n",
              "               3               16035.000000\n",
              "               4               19392.000000"
            ]
          },
          "metadata": {
            "tags": []
          },
          "execution_count": 56
        }
      ]
    },
    {
      "cell_type": "code",
      "metadata": {
        "id": "qYvhzu-wmBFe"
      },
      "source": [],
      "execution_count": null,
      "outputs": []
    }
  ]
}